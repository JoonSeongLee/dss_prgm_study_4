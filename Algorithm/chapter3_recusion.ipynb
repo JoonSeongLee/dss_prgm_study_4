{
 "cells": [
  {
   "cell_type": "markdown",
   "metadata": {},
   "source": [
    "# 재귀\n",
    "- 재귀란 함수가 자기 자신을 호출하는 것을 말합니다.\n",
    "\n",
    "- 예1\n",
    "***\n",
    "1. 내부를 확인할 상자를 쌓아놓는다.\n",
    "2. 상자를 하나 집어서 내부를 살핀다.\n",
    "3. 만약 안에 상자가 있다면 꺼내어 나중에 확인할 상자 더미에 놓는다.\n",
    "4. 만약 열쇠가 있으면 작업 종료\n",
    "5. 반복한다.\n",
    "\n",
    "\n",
    "\n",
    "- 예2(재귀)\n",
    "***\n",
    "1. 상장 안을 확인한다.\n",
    "2. 만약 상자를 발견하면 1번으로 간다.\n",
    "3. 만약 열쇠를 반견하면 작업 종료\n",
    "\n",
    " 함수로 표현 \n",
    "    \n",
    "    def look_for_key(box):\n",
    "        for item in box\n",
    "            if item.is_a_box():\n",
    "                look_for_key(item)       ### 반복!\n",
    "            elif item.is_a_key():\n",
    "                print(\"열쇠를 찾았어요!\")\n",
    "***\n",
    "\n",
    "- 재귀함수 예제\n",
    "    \n",
    "    def countdown(i):\n",
    "        print(i)\n",
    "        if i <= 1:\n",
    "            return\n",
    "        else :\n",
    "            countdown(i-1)\n",
    "            \n",
    "            \n",
    "# 스택(stack)\n",
    "\n",
    "- 팝(pop)과 푸시(push)를 하는 자료구조\n",
    "- 푸시(puch) : 가장 위에 새 항목을 추가한다.\n",
    "- 팝(pop)    : 가장 위의 항목을 떼어내고 읽는다."
   ]
  },
  {
   "cell_type": "code",
   "execution_count": 11,
   "metadata": {},
   "outputs": [
    {
     "name": "stdout",
     "output_type": "stream",
     "text": [
      "5\n",
      "4\n",
      "3\n",
      "2\n",
      "1\n"
     ]
    }
   ],
   "source": [
    "def countdown(i):\n",
    "    print(i)\n",
    "    if i <= 1:\n",
    "        return\n",
    "    else :\n",
    "        countdown(i-1)\n",
    "countdown(5)"
   ]
  },
  {
   "cell_type": "code",
   "execution_count": 4,
   "metadata": {
    "scrolled": true
   },
   "outputs": [
    {
     "name": "stdout",
     "output_type": "stream",
     "text": [
      "hello John!\n",
      "how do you do John?\n",
      "getting ready to say bye...\n",
      "ok bye!\n"
     ]
    }
   ],
   "source": [
    "def fun1(name):\n",
    "    print (\"hello \" + name +\"!\")\n",
    "    fun2(name)\n",
    "    print (\"getting ready to say bye...\")\n",
    "    fun3()\n",
    "def fun2(name):\n",
    "    print (\"how do you do \"+ name +\"?\")\n",
    "def fun3():\n",
    "    print(\"ok bye!\")    \n",
    "\n",
    "fun1(\"John\")        "
   ]
  },
  {
   "cell_type": "code",
   "execution_count": 10,
   "metadata": {},
   "outputs": [
    {
     "data": {
      "text/plain": [
       "6"
      ]
     },
     "execution_count": 10,
     "metadata": {},
     "output_type": "execute_result"
    }
   ],
   "source": [
    "def fact(x):\n",
    "    if x == 1:\n",
    "        return 1\n",
    "    else :       \n",
    "        return x*fact(x-1)\n",
    "fact(3)\n",
    "## fact(3)실행                      x=3              x==1 은 False     \n",
    "## 첫재귀 호출fact(2)               x=2 ,x=3\n",
    "## 첫재귀함수 실행                  x=2, x=3         x==1 은 False \n",
    "## 두번째 재귀함수 호출fact(1)      x=1, x=2, x=3\n",
    "## 두번째 재귀함수 실행             x=1, x=2, x=3    x==1 은 True  \n",
    "## 두번째 재귀함수 반환             x=1, x=2, x=3    if를 통해 1 반환                    즉 fact(1) = 1\n",
    "## 첫번째 재귀함수 반환             x=2, x=3         else를 통해 x*1 => 2*1 반환         즉 fatc(2) = 2\n",
    "## 첫함수 반환                      x=3              else를 통해 x*fact(2) => 3*2 반환   즉 fact(3) = 3\n"
   ]
  }
 ],
 "metadata": {
  "kernelspec": {
   "display_name": "Python 3",
   "language": "python",
   "name": "python3"
  },
  "language_info": {
   "codemirror_mode": {
    "name": "ipython",
    "version": 3
   },
   "file_extension": ".py",
   "mimetype": "text/x-python",
   "name": "python",
   "nbconvert_exporter": "python",
   "pygments_lexer": "ipython3",
   "version": "3.6.4"
  }
 },
 "nbformat": 4,
 "nbformat_minor": 2
}
