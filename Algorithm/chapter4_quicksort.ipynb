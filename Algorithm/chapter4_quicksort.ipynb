{
 "cells": [
  {
   "cell_type": "markdown",
   "metadata": {},
   "source": [
    "# 4-1 분할정복(divide & conquer)"
   ]
  },
  {
   "cell_type": "markdown",
   "metadata": {},
   "source": [
    "1. 가장 간단한 경우로 기본단계를 찾는다.\n",
    "2. 주어진 문제를 작게 줄여서 기본 단계가 되도록 만드는 법을 찾는다."
   ]
  },
  {
   "cell_type": "markdown",
   "metadata": {},
   "source": [
    "- 숫자배열 example\n"
   ]
  },
  {
   "cell_type": "code",
   "execution_count": 6,
   "metadata": {},
   "outputs": [
    {
     "name": "stdout",
     "output_type": "stream",
     "text": [
      "10\n"
     ]
    }
   ],
   "source": [
    "### 반복문 사용\n",
    "def s(arr):\n",
    "    total = 0\n",
    "    for x in arr:\n",
    "        total += x\n",
    "    return total\n",
    "\n",
    "print(s([1, 2, 3, 4]))"
   ]
  },
  {
   "cell_type": "markdown",
   "metadata": {},
   "source": [
    "<재귀 함수 사용>\n",
    "1. 기본 단계 찾기 -> 리스트가 비어있으면 0을 반환, 원소가 하나면 그 숫자를 반환\n",
    "2. 재귀 함수를 호출할 때마다 호출 대상이 되는 배열의 크기가 점점 감소 -> 리스트의 총합은 첫번째 숫자와 나머지 리스트의 총합을 더한 값"
   ]
  },
  {
   "cell_type": "markdown",
   "metadata": {},
   "source": [
    "- 재귀함수 사용하는 이유 ? 함수형 프로그래밍(functional programming) 익히는 것에 도움"
   ]
  },
  {
   "cell_type": "markdown",
   "metadata": {},
   "source": [
    "# 4-2 퀵 정렬(quick sort)"
   ]
  },
  {
   "cell_type": "markdown",
   "metadata": {},
   "source": [
    "정렬 알고리즘\n",
    "1. 기준 원소(pivot) 선택\n",
    "2. 배열을 기준 원소보다 작은 원소의 배열과 기준 원소보다 큰 원소의 배열로 분할(partitioning)\n",
    "3. 하위 배열에 대해 재귀적으로 퀵 정렬 호출"
   ]
  },
  {
   "cell_type": "code",
   "execution_count": 8,
   "metadata": {},
   "outputs": [
    {
     "data": {
      "text/plain": [
       "[1, 2, 5, 6, 8, 9, 10, 41]"
      ]
     },
     "execution_count": 8,
     "metadata": {},
     "output_type": "execute_result"
    }
   ],
   "source": [
    "### quick sort\n",
    "def quicksort(arr):\n",
    "    if len(arr) < 2:\n",
    "        return arr  #기본 단계: 원소의 개수가 0이나 1이면 이미 정렬되어 있는 상태\n",
    "    else:\n",
    "        pivot = arr[0] # 재귀 단계\n",
    "        less = [i for i in arr[1:] if i <= pivot]\n",
    "        greater = [i for i in arr[1:] if i > pivot]\n",
    "        return quicksort(less) + [pivot] + quicksort(greater)\n",
    "\n",
    "quicksort([2,5,1,9,8,10,41,6])"
   ]
  },
  {
   "cell_type": "markdown",
   "metadata": {},
   "source": [
    "# 4-3 빅오 표기법 복습"
   ]
  },
  {
   "cell_type": "markdown",
   "metadata": {},
   "source": [
    "- 병합 정렬(merge sort) vs 퀵 정렬(quick sort)\n",
    "\n",
    "퀵 정렬은 병합 정렬보다 더 작은 상수를 가진다. 그래서 실행 시간이 $ O(n \\log{n})$ 으로 동일하다면 퀵 정렬이 더 빠름\n",
    "\n",
    "현실에서는 퀵 정렬을 사용할 때 최악의 경우보다는 일반적인 경우가 더 많으므로 퀵 정렬이 더 빠르다.\n",
    "\n",
    "***상수 : 알고리즘이 소비하는 어떤 특정한 시간***"
   ]
  },
  {
   "cell_type": "markdown",
   "metadata": {},
   "source": [
    "- 최선의 경우 vs 최악의 경우\n",
    "\n",
    "**퀵 정렬의 성능은 pivot에 크게 의존**\n",
    "\n",
    "최선의 경우 : 호출스택의 높이 $ O(\\log{n})$ X 각 단계에서 걸리는 시간 $O(n)$ = $ O(n \\log{n})$\n",
    "\n",
    "최악의 경우 : 호출스택의 높이 $ O(n)$ X 각 단계에서 걸리는 시간 $O(n)$ = $ O(n^2)$"
   ]
  },
  {
   "cell_type": "markdown",
   "metadata": {},
   "source": [
    "# summary\n",
    "- 분할 정복은 문제를 더 작은 조각으로 나누어 푼다. 만약 리스트에 분할 정복을 적용한다면 기본 단계는 원소가 없는 빈 배열이거나 하나의 원소만 가진 배열이 된다.\n",
    "- 퀵 정렬을 구현하려면 기준 원소를 무작위로 선택, 퀵 정렬의 평균 실행 시간은 O(n log n)\n",
    "- 빅오 표기법에서 가끔씩 상수가 중요해질 때가 있다. ( ex : 퀵 정렬이 병합 정렬보다 빠른 이유 )\n",
    "- 단순 탐색과 이진 탐색을 비교할 때는 상수항이 문제가 되지 않는다. 왜냐하면 리스트가 길어지면 $O(\\log{n})$이 $ O(n)$보다 훨씬 빨라지기 때문이다."
   ]
  },
  {
   "cell_type": "code",
   "execution_count": null,
   "metadata": {},
   "outputs": [],
   "source": []
  }
 ],
 "metadata": {
  "kernelspec": {
   "display_name": "Python 3",
   "language": "python",
   "name": "python3"
  },
  "language_info": {
   "codemirror_mode": {
    "name": "ipython",
    "version": 3
   },
   "file_extension": ".py",
   "mimetype": "text/x-python",
   "name": "python",
   "nbconvert_exporter": "python",
   "pygments_lexer": "ipython3",
   "version": "3.6.4"
  }
 },
 "nbformat": 4,
 "nbformat_minor": 2
}
