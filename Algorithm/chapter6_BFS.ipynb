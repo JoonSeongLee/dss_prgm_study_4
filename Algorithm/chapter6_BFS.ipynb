{
 "cells": [
  {
   "cell_type": "markdown",
   "metadata": {},
   "source": [
    "## 그래프란?\n",
    "    = 정점(vertice)과 간선(edge)으로 관계를 나타낸 것\n",
    "> 간선이 방향을 가지면 __방향 그래프__\n",
    "\n",
    "> 간선에 방향이 없으면 __무방향 그래프__"
   ]
  },
  {
   "cell_type": "markdown",
   "metadata": {},
   "source": [
    "## 그래프는 왜 그리나요?\n",
    "    = 실세계를 모형화하여 문제해결을 돕습니다"
   ]
  },
  {
   "cell_type": "markdown",
   "metadata": {},
   "source": [
    "## 그래프에서 최단거리는 어떻게 구하나요?\n",
    "1. 시작점에서 한 번으로 도달할 수 있는 모든 정점에 선을 연결함\n",
    "2. 1번의 연결된 정점에서 다시 1번을 함\n",
    "3. 도착점에 도달하면 종료 "
   ]
  },
  {
   "cell_type": "markdown",
   "metadata": {},
   "source": [
    "## 큐는 뭔가요?\n",
    "    = 스택과 반대인 자료구조,\n",
    "> 스택은 LIFO, 큐는 FIFO"
   ]
  },
  {
   "cell_type": "markdown",
   "metadata": {},
   "source": [
    "-----------"
   ]
  },
  {
   "cell_type": "markdown",
   "metadata": {},
   "source": [
    "## 정점,간선으로 이루어진 데이터들의 대표적인 두가지 탐색기법\n",
    "> 1. BFS = __가장 가까운 정점__들을 우선하여 퍼지는 방식으로 탐색\n",
    "\n",
    "> 2. DFS = __가장 깊은 곳__을 우선하여 끝까지 탐색"
   ]
  },
  {
   "cell_type": "markdown",
   "metadata": {},
   "source": [
    "# BFS와 DFS는 언제 자주 쓰이나요?\n",
    "1. BFS는 정점 간 __최단거리__를 구할 때\n",
    "2. DFS는 __찾는 데이터가 깊은 곳__에 있을 때"
   ]
  },
  {
   "cell_type": "markdown",
   "metadata": {},
   "source": [
    "https://namu.wiki/w/%ED%8C%8C%EC%9D%BC:external/blog.hackerearth.com/dfsbfs_animation_final.gif"
   ]
  },
  {
   "cell_type": "markdown",
   "metadata": {},
   "source": [
    "# 각 방법마다 특징과 장단이 있으므로 해결할 문제에 따라 적절히 골라야 한다"
   ]
  },
  {
   "cell_type": "markdown",
   "metadata": {},
   "source": [
    "# 사실 BFS를 쓰는 것보다 그래프를 만드는게 더 까다로움"
   ]
  }
 ],
 "metadata": {
  "kernelspec": {
   "display_name": "Python 3",
   "language": "python",
   "name": "python3"
  },
  "language_info": {
   "codemirror_mode": {
    "name": "ipython",
    "version": 3
   },
   "file_extension": ".py",
   "mimetype": "text/x-python",
   "name": "python",
   "nbconvert_exporter": "python",
   "pygments_lexer": "ipython3",
   "version": "3.6.3"
  }
 },
 "nbformat": 4,
 "nbformat_minor": 2
}
