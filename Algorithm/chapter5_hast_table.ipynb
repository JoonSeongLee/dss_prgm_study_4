{
 "cells": [
  {
   "cell_type": "markdown",
   "metadata": {},
   "source": [
    "# 해시 테이블 (해시함수)"
   ]
  },
  {
   "cell_type": "markdown",
   "metadata": {},
   "source": [
    "정의 : \n",
    "\n",
    "- 짧은 길이의 값이나 Key로 변환하여 하나의 문자열에 할당하고\n",
    "- `해시키(Key)`라는 주소에 직접 접근해서 `값 (Value)`을 반환하는 함수.\n",
    "- 대표적인 예 - [Key: Value] ==> Dictionry."
   ]
  },
  {
   "cell_type": "markdown",
   "metadata": {},
   "source": [
    "비교 :\n",
    "\n",
    "문자열을 찾을 때 문자를 하나하나 비교하며 찾는 것 **O(n) _vs_ O(1)** : 특정 키에 저장된 문자열, 찾을 때는 한 번의 해시 키 계산만으로도 쉽게 찾는 것"
   ]
  },
  {
   "cell_type": "markdown",
   "metadata": {},
   "source": [
    "# 해시 함수의 규칙"
   ]
  },
  {
   "cell_type": "markdown",
   "metadata": {},
   "source": [
    "1. 일관성 : \n",
    "    - 특정 문자열을 입력했을 때 반환되는 값은 항상 같아야 한다. (Key : Value)\n",
    "    (같은 이름에 한해서는 항상 같은 인덱스를 반환)  \n",
    "<br>\n",
    "2. 고유한 값 :\n",
    "    - 다른 단어가 들어가면 다른 숫자를 반환해야 한다. 서로 다른 Key에 Value가 중복되면 좋은 해시함수라 할 수 없다. "
   ]
  },
  {
   "cell_type": "markdown",
   "metadata": {},
   "source": [
    "# 적용 예"
   ]
  },
  {
   "cell_type": "markdown",
   "metadata": {},
   "source": [
    "1. 관계를 설정할 수 있다. (전화번호부 예)\n",
    "2. 입력 값의 중복을 방지한다. (투표 예)\n",
    "3. 자주 사용되는 데이터를 저장한 후, 별 다른 작업 없이 빠르게 로드할 수 있다. (페이스북 예)"
   ]
  },
  {
   "cell_type": "markdown",
   "metadata": {},
   "source": [
    "# Key 값의 충돌을 피하려면?"
   ]
  },
  {
   "cell_type": "markdown",
   "metadata": {},
   "source": [
    "하나의 해시 공간에 여러 개의 키를 연결 리스트로 넣는다.  \n",
    "-> 연결리스트로 인해 탐색에 O(n)의 시간이 걸린다."
   ]
  },
  {
   "cell_type": "markdown",
   "metadata": {},
   "source": [
    "# 사용율을 넉넉하게 !"
   ]
  },
  {
   "cell_type": "markdown",
   "metadata": {},
   "source": [
    "해시 테이블 사용률 = $ \\dfrac{해시 테이블 내 항목의 수}{해시 테이블 전체 공간의 수} $"
   ]
  },
  {
   "cell_type": "markdown",
   "metadata": {},
   "source": [
    "초기에 배열을 넉넉하게 생성하여, 충돌을 방지한다.  \n",
    "사용률이 0.7을 초과하게 되면 `resizing` 작업을 거친다."
   ]
  },
  {
   "cell_type": "code",
   "execution_count": null,
   "metadata": {
    "collapsed": true
   },
   "outputs": [],
   "source": [
    "\n"
   ]
  }
 ],
 "metadata": {
  "kernelspec": {
   "display_name": "Python 3",
   "language": "python",
   "name": "python3"
  },
  "language_info": {
   "codemirror_mode": {
    "name": "ipython",
    "version": 3
   },
   "file_extension": ".py",
   "mimetype": "text/x-python",
   "name": "python",
   "nbconvert_exporter": "python",
   "pygments_lexer": "ipython3",

   "version": "3.6.4"

  }
 },
 "nbformat": 4,
 "nbformat_minor": 2
}
