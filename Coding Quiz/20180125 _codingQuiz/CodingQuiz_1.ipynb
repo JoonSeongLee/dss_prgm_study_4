{
 "cells": [
  {
   "cell_type": "markdown",
   "metadata": {},
   "source": [
    "# No.1 Find the sum of all the multiples of 3 or 5 below 1000."
   ]
  },
  {
   "cell_type": "code",
   "execution_count": 25,
   "metadata": {},
   "outputs": [
    {
     "name": "stdout",
     "output_type": "stream",
     "text": [
      "233168\n"
     ]
    }
   ],
   "source": [
    "mul_sum = 0\n",
    "for i in range(1, 1000):\n",
    "    if i % 15 == 0:\n",
    "        mul_sum += i\n",
    "    elif i % 3 == 0:\n",
    "        mul_sum += i\n",
    "    elif i % 5 == 0:\n",
    "        mul_sum += i\n",
    "\n",
    "print(mul_sum)"
   ]
  },
  {
   "cell_type": "markdown",
   "metadata": {},
   "source": [
    "# No.2  2이상 1000이하 자연수의 집합에서 소수의 개수를 구하는 알고리즘을 작성하시오."
   ]
  },
  {
   "cell_type": "code",
   "execution_count": 26,
   "metadata": {},
   "outputs": [
    {
     "data": {
      "text/plain": [
       "31.622776601683793"
      ]
     },
     "execution_count": 26,
     "metadata": {},
     "output_type": "execute_result"
    }
   ],
   "source": [
    "import math\n",
    "math.sqrt(1000)\n"
   ]
  },
  {
   "cell_type": "code",
   "execution_count": 74,
   "metadata": {},
   "outputs": [],
   "source": [
    "#에라토스테네스의 체 사용\n",
    "ls = list(range(2, 1001))\n",
    "n = ls[0]\n",
    "count = 0\n",
    "new_ls = []\n",
    "while len(ls) > 0 :\n",
    "    count += 1\n",
    "    for i in ls:\n",
    "        n = ls[0]\n",
    "        if i % n != 0:\n",
    "            new_ls.append(i)\n",
    "    ls = new_ls\n",
    "#### print(ls) -> 체로 걸러지는 리스트 보여줌\n",
    "    new_ls = []\n",
    "    \n"
   ]
  },
  {
   "cell_type": "code",
   "execution_count": 75,
   "metadata": {},
   "outputs": [
    {
     "data": {
      "text/plain": [
       "168"
      ]
     },
     "execution_count": 75,
     "metadata": {},
     "output_type": "execute_result"
    }
   ],
   "source": [
    "count"
   ]
  },
  {
   "cell_type": "markdown",
   "metadata": {},
   "source": [
    "# No.3 피보나치 수열 중 짝수이면서 400만이하인 모든 항을 더하여라."
   ]
  },
  {
   "cell_type": "code",
   "execution_count": 21,
   "metadata": {},
   "outputs": [
    {
     "name": "stdout",
     "output_type": "stream",
     "text": [
      "4613732\n"
     ]
    }
   ],
   "source": [
    "a = 1\n",
    "b = 2\n",
    "ls = [a, b]\n",
    "while True:\n",
    "    c = a + b\n",
    "    if c > 4000000:\n",
    "        break\n",
    "    ls.append(c)\n",
    "    a = b\n",
    "    b = c\n",
    "\n",
    "s = 0\n",
    "for i in ls:\n",
    "    if i % 2 == 0:\n",
    "        s += i\n",
    "print(s)"
   ]
  },
  {
   "cell_type": "code",
   "execution_count": null,
   "metadata": {},
   "outputs": [],
   "source": []
  },
  {
   "cell_type": "markdown",
   "metadata": {},
   "source": [
    "# No.4 1부터 10000까지 8이라는 숫자가 몇 번 나오는가?\n",
    "\n",
    "1의 자리가 8인 수의 개수 -> 10X10X10 = 1000 \n",
    "\n",
    "10의 자리가 8인 수의 개수 -> 10X10X10 = 1000 \n",
    "\n",
    "100의 자리가 8인 수의 개수 -> 10X10X10 = 1000 \n",
    "\n",
    "1000의 자리가 8인 수의 개수 -> 10X10X10 = 1000 \n",
    "\n",
    "$\\therefore 1000+1000+1000+1000 = 4000 $"
   ]
  },
  {
   "cell_type": "code",
   "execution_count": null,
   "metadata": {},
   "outputs": [],
   "source": []
  },
  {
   "cell_type": "code",
   "execution_count": null,
   "metadata": {},
   "outputs": [],
   "source": []
  },
  {
   "cell_type": "code",
   "execution_count": null,
   "metadata": {},
   "outputs": [],
   "source": []
  },
  {
   "cell_type": "code",
   "execution_count": null,
   "metadata": {},
   "outputs": [],
   "source": []
  }
 ],
 "metadata": {
  "kernelspec": {
   "display_name": "Python 3",
   "language": "python",
   "name": "python3"
  }
 },
 "nbformat": 4,
 "nbformat_minor": 2
}
