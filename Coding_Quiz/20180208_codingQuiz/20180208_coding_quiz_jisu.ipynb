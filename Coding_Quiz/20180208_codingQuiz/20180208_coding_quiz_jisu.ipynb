{
 "cells": [
  {
   "cell_type": "markdown",
   "metadata": {},
   "source": [
    "# 숫자 출력하기\n",
    "\n",
    "20150111 을 출력합니다.\n",
    "4가지 기준만 만족하면 됩니다.\n",
    "\n",
    "- 코드 내에 숫자가 없어야 합니다.\n",
    "- 파일 이름이나 경로를 사용해서는 안됩니다.\n",
    "- 시간, 날짜 함수를 사용해서는 안됩니다.\n",
    "- 에러 번호 출력을 이용해서는 안됩니다"
   ]
  },
  {
   "cell_type": "code",
   "execution_count": 13,
   "metadata": {},
   "outputs": [
    {
     "name": "stdout",
     "output_type": "stream",
     "text": [
      "20150111\n"
     ]
    }
   ],
   "source": [
    "d_zero = ord('a') - ord('a')\n",
    "d_one = ord('b') - ord('a')\n",
    "d_two = ord('c') - ord('a')\n",
    "d_five = ord('f') - ord('a')\n",
    "ls = [str(d_two), str(d_zero), str(d_one), str(d_five), str(d_zero), str(d_one), str(d_one), str(d_one)]\n",
    "\n",
    "print(\"\".join(ls))\n"
   ]
  },
  {
   "cell_type": "markdown",
   "metadata": {},
   "source": [
    "# 넥슨 입사문제 중에서\n",
    "어떤 자연수 n이 있을 때, d(n)을 n의 각 자릿수 숫자들과 n 자신을 더한 숫자라고 정의하자.\n",
    "\n",
    "예를 들어 d(91) = 9 + 1 + 91 = 101\n",
    "\n",
    "이 때, n을 d(n)의 제네레이터(generator)라고 한다. 위의 예에서 91은 101의 제네레이터이다.\n",
    "어떤 숫자들은 하나 이상의 제네레이터를 가지고 있는데, 101의 제네레이터는 91 뿐 아니라 100도 있다. 그런데 반대로, 제네레이터가 없는 숫자들도 있으며, 이런 숫자를 인도의 수학자 Kaprekar가 셀프 넘버(self-number)라 이름 붙였다. 예를 들어 1,3,5,7,9,20,31 은 셀프 넘버 들이다.\n",
    "1 이상이고 5000 보다 작은 모든 셀프 넘버들의 합을 구하라."
   ]
  },
  {
   "cell_type": "code",
   "execution_count": 75,
   "metadata": {},
   "outputs": [
    {
     "data": {
      "text/plain": [
       "1227365"
      ]
     },
     "execution_count": 75,
     "metadata": {},
     "output_type": "execute_result"
    }
   ],
   "source": [
    "\n",
    "k = list(range(1, 5001))\n",
    "\n",
    "for gen in range(1, 5000):\n",
    "    sum_0 = 0\n",
    "    for i in list(str(gen)):\n",
    "        sum_0 += int(i)\n",
    "    gen += sum_0\n",
    "    if gen in k:\n",
    "        k.remove(gen)\n",
    "sum(k)\n"
   ]
  },
  {
   "cell_type": "markdown",
   "metadata": {},
   "source": [
    "# Ugly Numbers\n",
    "심술쟁이 수는 2,3,5의 곱으로 만들 수 있는 수이다. 다음과 같은 순서의 수가 11개의 심술쟁이 수이다.\n",
    "\n",
    "1,2,3,4,5,6,8,9,10,12,15,....\n",
    "\n",
    "처음 수는 1로 시작하도록 한다. 입력은 받지 않고, <number> 에 1500번째 심술쟁이 수가 출력되게 한다.\n",
    "\n",
    "Sample Output\n",
    "\n",
    "The 1500'th ugly number is <number>.\n",
    "답\n",
    "\n",
    "859963392\n",
    "(1550번째는 1093500000, 십만번째는 290142196707511001929482240000000000000)\n",
    "\n"
   ]
  },
  {
   "cell_type": "code",
<<<<<<< HEAD
   "execution_count": 1,
=======
   "execution_count": 5,
>>>>>>> be0c4771200340363ee9db41b33bdb08ab35a15e
   "metadata": {},
   "outputs": [
    {
     "name": "stdout",
     "output_type": "stream",
     "text": [
      "The 1500'th ugly number is 859963392\n",
      "CPU times: user 148 ms, sys: 3.42 ms, total: 152 ms\n",
      "Wall time: 151 ms\n"
     ]
    }
   ],
   "source": [
    "%%time\n",
    "ls = np.array([1])  # ugly numbers의 리스트\n",
    "ex = np.array([2, 3, 5]) # 곱해주는 수의 리스트\n",
    "new = np.array([]) # ugly numbers에 추가될 수들의 리스트\n",
    "\n",
    "while len(ls)<=1500:\n",
    "    new = np.hstack((new, ls[-1] * ex)) # ls에서 가장 뒤의 index의 숫자에 ex 를 곱해준다.\n",
    "    new = np.array(list(set(new))) # 중복되는 element 없애기\n",
    "    m = np.min(new)    # m은 new에서 가장 작은 element\n",
    "    ls = np.hstack((ls, [m])) # m을 ls에 추가해준다.\n",
    "    new = list(new)\n",
    "    new.remove(m)       # m을 new에서 없애기\n",
    "    new = np.array(new)\n",
    "\n",
    "print(\"The 1500'th ugly number is {}\".format(int(ls[1499])))"
   ]
  },
  {
   "cell_type": "code",
   "execution_count": null,
   "metadata": {},
   "outputs": [],
   "source": []
  },
  {
   "cell_type": "markdown",
   "metadata": {},
   "source": [
    "# 487-3229\n",
    "\n",
    "회사원들은 외우기 좋은 전화번호를 갖고 싶어한다. 전화번호를 외우기 쉽도록 만드는 한 방법은 기억하기 좋은 단어나 구절이 되도록 하는 것이다. 예를 들어, 워털루 대학의 전화는 TUT-GLOP으로 전화를 걸 수 있다. 때때로 번호의 일부만이 단어를 쓰기 위해 사용될 수 있다. Gino에서 피자를 주문하기 위해 310-GINO로 전화를 거는 식이다. 전화번호를 외우기 좋도록 하는 또다른 방법은 숫자들을 기억하기 좋은 방법으로 묶는 것이다. 3-10-10-10 (Three-tens)으로 전화를 걸면 피자헛에 주문을 할 수 있다.\n",
    "\n",
    "전화번호의 표준형은 세 번째 번호와 네 번째 번호 사이에 하이픈(-)을 삽입한 7개의 숫자로 구성되어 있다. (예: 888-1200). 전화기의 키패드는 다음과 같은 글자 대 숫자의 대응을 지닌다.\n",
    "\n",
    "A, B, C -> 2\n",
    "D, E, F -> 3\n",
    "G, H, I -> 4\n",
    "J, K, L -> 5\n",
    "M, N, O -> 6\n",
    "P, R, S -> 7\n",
    "T, U, V -> 8\n",
    "W, X, Y -> 9\n",
    "Q와 Z에 대한 대응관계는 존재하지 않는다. 하이픈은 전화기에 입력되지 않으며 필요에 따라 추가되거나 빠질 수 있다. TUT-GLOP의 표준형은 888-4567이고, 310-GINO의 표준형은 310-4466, 3-10-10-10의 표준형은 310-1010이다.\n",
    "\n",
    "만약 어떤 두 전화번호가 같은 표준형을 지니면 그들은 같은 번호이다.\n",
    "\n",
    "여러분의 회사는 지역 회사원들의 전화번호를 정리하고 있다. 품질 관리 과정의 일환으로, 여러분은 정리된 전화번호부의 번호 중에 같은 것이 둘 이상 있지 않은지 확인하고 싶다.\n",
    "\n",
    "Input\n",
    "\n",
    "입력은 하나의 테스트 케이스로 구성된다. 입력의 첫 줄은 전화번호의 갯수(<=100,000)로 이뤄져 있다. 남은 줄들은 전화번호부 내의 전화번호들이 한 줄에 하나씩 들어 있다. 각 전화번호는 십진 숫자들과 대문자(Q,Z 제외), 하이픈으로 구성된 문자열로 이뤄져 있다. 문자열 내에서 정확히 7개의 문자들이 숫자 또는 알파벳 문자이다.\n",
    "\n",
    "Output\n",
    "\n",
    "한 번 이상 등장한 전화번호들이 출력을 구성한다. 각 줄은 표준형으로 표현된 전화번호와 출현 횟수가 하나의 공백 문자로 구분되어 있다. 출력되는 전화 번호들은 증가하는 사전식 순서로 되어 있어야 한다. 만약 입력으로 들어온 전화번호 중에 중복이 없다면 \"No duplicates.\"를 출력한다.\n",
    "\n",
    "Sample Input\n",
    "\n",
    "12\n",
    "\n",
    "4873279 \n",
    "\n",
    "ITS-EASY\n",
    "\n",
    "888-4567\n",
    "\n",
    "3-10-10-10\n",
    "\n",
    "888-GLOP\n",
    "\n",
    "TUT-GLOP\n",
    "\n",
    "967-11-11\n",
    "\n",
    "310-GINO\n",
    "\n",
    "F101010\n",
    "\n",
    "888-1200\n",
    "\n",
    "-4-8-7-3-2-7-9-\n",
    "\n",
    "487-3279\n",
    "\n",
    "Sample Output\n",
    "\n",
    "310-1010 2\n",
    "\n",
    "487-3279 4\n",
    "\n",
    "888-4567 3\n"
   ]
  },
  {
   "cell_type": "code",
   "execution_count": 133,
   "metadata": {},
   "outputs": [],
   "source": [
    "import re"
   ]
  },
  {
   "cell_type": "code",
   "execution_count": 134,
   "metadata": {},
   "outputs": [
    {
     "name": "stdout",
     "output_type": "stream",
     "text": [
      "12\n",
      "4873279\n",
      "ITS-EASY\n",
      "888-4567\n",
      "3-10-10-10\n",
      "888-GLOP\n",
      "TUT-GLOP\n",
      "967-11-11\n",
      "310-GINO\n",
      "F101010\n",
      "888-1200\n",
      "-4-8-7-3-2-7-9-\n",
      "487-3279\n",
      "310-1010 2\n",
      "310-4466 No duplicates.\n",
      "487-3279 4\n",
      "888-1200 No duplicates.\n",
      "888-4567 3\n",
      "967-1111 No duplicates.\n"
     ]
    }
   ],
   "source": [
    "### input 받기\n",
    "n = int(input())\n",
    "arr = []\n",
    "for i in range(n):\n",
    "    k = input()\n",
    "    arr.append(k)\n",
    "    \n",
    "### 하이픈 제외시키기\n",
    "for idx, num in enumerate(arr):\n",
    "    num = list(num)\n",
    "    while '-' in num:\n",
    "        num.remove('-')\n",
    "    num = \"\".join(num)\n",
    "    arr[idx] = num\n",
    "\n",
    "### 알파벳 숫자로 바꾸기\n",
    "for idx, num in enumerate(arr):\n",
    "    arr[idx] = num\n",
    "    if re.findall('\\D', num):\n",
    "        num = re.sub('[A-C]', '2', num)\n",
    "        num = re.sub('[D-F]', '3', num)\n",
    "        num = re.sub('[G-I]', '4', num)\n",
    "        num = re.sub('[J-L]', '5', num)\n",
    "        num = re.sub('[M-O]', '6', num)\n",
    "        num = re.sub('[PRS]', '7', num)\n",
    "        num = re.sub('[T-V]', '8', num)\n",
    "        num = re.sub('[W-Y]', '9', num)\n",
    "    num = num[0:3] + '-' + num[3:]     ### 표준형으로 바꾸기\n",
    "    arr[idx] = num\n",
    "arr.sort() ### 오름차순으로 만들기\n",
    "arr_2 = arr.copy()\n",
    "### 중복 갯수 세기\n",
    "for i in arr:\n",
    "    if i in arr_2:\n",
    "        count = 0\n",
    "        while i in arr_2:\n",
    "            count += 1\n",
    "            arr_2.remove(i)\n",
    "        if count == 1:\n",
    "            print(i, \"No duplicates.\")\n",
    "        else:\n",
    "            print(i, count)"
   ]
  },
  {
   "cell_type": "code",
   "execution_count": null,
   "metadata": {},
   "outputs": [],
   "source": []
  }
 ],
 "metadata": {
  "kernelspec": {
   "display_name": "Python 3",
   "language": "python",
   "name": "python3"
  },
  "language_info": {
   "codemirror_mode": {
    "name": "ipython",
    "version": 3
   },
   "file_extension": ".py",
   "mimetype": "text/x-python",
   "name": "python",
   "nbconvert_exporter": "python",
   "pygments_lexer": "ipython3",
   "version": "3.6.2"
  }
 },
 "nbformat": 4,
 "nbformat_minor": 2
}
