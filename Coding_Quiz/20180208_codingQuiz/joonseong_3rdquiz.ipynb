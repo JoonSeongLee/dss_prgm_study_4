{
 "cells": [
  {
   "cell_type": "code",
   "execution_count": 1,
   "metadata": {},
   "outputs": [
    {
     "name": "stdout",
     "output_type": "stream",
     "text": [
      "20150111\n"
     ]
    }
   ],
   "source": [
    "#20150111\n",
    "print('{}{}'.format(ord('亶'),ord('o')))"
   ]
  },
  {
   "cell_type": "code",
   "execution_count": 14,
   "metadata": {},
   "outputs": [
    {
     "data": {
      "text/plain": [
       "1227365"
      ]
     },
     "execution_count": 14,
     "metadata": {},
     "output_type": "execute_result"
    }
   ],
   "source": [
    "#셀프 넘버\n",
    "def gen_number(n):\n",
    "    for k in str(n):\n",
    "        n += int(k)\n",
    "    return n  \n",
    "\n",
    "gennum = [gen_number(i) for i in range(1,5000)]\n",
    "selfnum = [n for n in range(1,5000) if n not in gennum]\n",
    "sum(selfnum)"
   ]
  },
  {
   "cell_type": "code",
   "execution_count": 15,
   "metadata": {},
   "outputs": [
    {
     "name": "stdout",
     "output_type": "stream",
     "text": [
      "Which do you want ?th ugly number : 1500\n"
     ]
    },
    {
     "data": {
      "text/plain": [
       "859963392"
      ]
     },
     "execution_count": 15,
     "metadata": {},
     "output_type": "execute_result"
    }
   ],
   "source": [
    "\n",
    "inputnum = int(input(\"Which do you want ?th ugly number : \"))\n",
    "uglynums = [1]\n",
    "n=0\n",
    "num = 1\n",
    "def uglynum(num):\n",
    "    if num == 2 or num == 3 or num == 5:\n",
    "        return True\n",
    "    elif num%2 == 0 :\n",
    "        num = num/2\n",
    "        return uglynum(num)\n",
    "    elif num%3 == 0 :\n",
    "        num = num/3\n",
    "        return uglynum(num)\n",
    "    elif num%5 == 0 :\n",
    "        num = num/5\n",
    "        return uglynum(num)\n",
    "    else:\n",
    "        return False\n",
    "    \n",
    "while n < inputnum:\n",
    "    num += 1\n",
    "    if uglynum(num):\n",
    "        uglynums.append(num)\n",
    "        n+=1\n",
    "uglynums[inputnum-1]\n"
   ]
  },
  {
   "cell_type": "code",
   "execution_count": 8,
   "metadata": {},
   "outputs": [
    {
     "name": "stdout",
     "output_type": "stream",
     "text": [
      "Which do you want ?th ugly number : 1500\n"
     ]
    },
    {
     "data": {
      "text/plain": [
       "859963392"
      ]
     },
     "execution_count": 8,
     "metadata": {},
     "output_type": "execute_result"
    }
   ],
   "source": [
    "inputnum = int(input(\"Which do you want ?th ugly number : \"))\n",
    "uglynums = [1]\n",
    "n=0\n",
    "num = 1\n",
    "def uglynum(num):\n",
    "    while num % 2 == 0:\n",
    "        num = num // 2\n",
    "    while num % 3 == 0:\n",
    "        num = num // 3\n",
    "    while num % 5 == 0:\n",
    "        num = num // 5\n",
    "    if num == 1:\n",
    "        return True\n",
    "    else :\n",
    "        return False\n",
    "while n < inputnum:\n",
    "    num += 1\n",
    "    if uglynum(num):\n",
    "        uglynums.append(num)\n",
    "        n+=1\n",
    "uglynums[inputnum-1]\n"
   ]
  },
  {
   "cell_type": "code",
   "execution_count": 42,
   "metadata": {},
   "outputs": [
    {
     "name": "stdout",
     "output_type": "stream",
     "text": [
      "487-3279 4\n",
      "888-4567 3\n",
      "310-1010 2\n",
      "967-1111 No duplicates\n",
      "310-4466 No duplicates\n",
      "888-1200 No duplicates\n"
     ]
    }
   ],
   "source": [
    "alpha_table = {\n",
    "    'A':'2', 'B':'2', 'C': '2',\n",
    "    'D':'3', 'E':'3', 'F': '3',\n",
    "    'G':'4', 'H':'4', 'I': '4',\n",
    "    'J':'5', 'K':'5', 'L': '5',\n",
    "    'M':'6', 'N':'6', 'O': '6',\n",
    "    'P':'7', 'R':'7', 'S': '7',\n",
    "    'T':'8', 'U':'8', 'V': '8',\n",
    "    'W':'9', 'X':'9', 'Y': '9',\n",
    "}\n",
    "def change_number(insert):\n",
    "    insert = insert.replace('-', '')\n",
    "    insert_list = list(insert)\n",
    "    data = []\n",
    "    for n in insert_list:\n",
    "        ch = 0 \n",
    "        for key, value in alpha_table.items():\n",
    "            if n ==  key:\n",
    "                data.append(value)\n",
    "                ch += 1\n",
    "        if ch == 0:\n",
    "            data.append(n)\n",
    "\n",
    "    return '{}-{}'.format(''.join(data[:3]), ''.join(data[3:]))\n",
    "\n",
    "data = '''4873279\n",
    "ITS-EASY\n",
    "888-4567\n",
    "3-10-10-10\n",
    "888-GLOP\n",
    "TUT-GLOP\n",
    "967-11-11\n",
    "310-GINO\n",
    "F101010\n",
    "888-1200\n",
    "-4-8-7-3-2-7-9-\n",
    "487-3279\n",
    "'''\n",
    "\n",
    "datas = []\n",
    "d=[]\n",
    "for n in data:   \n",
    "    if n == '\\n':\n",
    "        d=''.join(d)\n",
    "        datas.append(d)\n",
    "        d =[]\n",
    "    else:\n",
    "        d.append(n)                           ### 데이터를 리스트형식으로 바꿈\n",
    "\n",
    "result = []\n",
    "for x in range(len(datas)):    \n",
    "    result.append(change_number(datas[x]))     ### 영어를 해당 수로 바꿈\n",
    "\n",
    "final = {}\n",
    "for num in result:\n",
    "    if num not in final:\n",
    "        final[num] = 1\n",
    "    else:\n",
    "        final[num] += 1                       ### {전화번호 : 중복 횟수} 로  정리\n",
    "\n",
    "for i in final:\n",
    "    if final[i] != 1:\n",
    "        print(i, final[i])\n",
    "    else:\n",
    "        print(i, 'No duplicates')"
   ]
  }
 ],
 "metadata": {
  "kernelspec": {
   "display_name": "Python 3",
   "language": "python",
   "name": "python3"
  },
  "language_info": {
   "codemirror_mode": {
    "name": "ipython",
    "version": 3
   },
   "file_extension": ".py",
   "mimetype": "text/x-python",
   "name": "python",
   "nbconvert_exporter": "python",
   "pygments_lexer": "ipython3",
   "version": "3.6.2"
  }
 },
 "nbformat": 4,
 "nbformat_minor": 2
}
