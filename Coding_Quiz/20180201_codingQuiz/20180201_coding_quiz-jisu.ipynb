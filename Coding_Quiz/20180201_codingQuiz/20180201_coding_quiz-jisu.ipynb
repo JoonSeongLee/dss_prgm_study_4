{
 "cells": [
  {
   "cell_type": "markdown",
   "metadata": {},
   "source": [
    "### 1.\n",
    "\n",
    "스러피(Slurpy)란 어떠한 속성이 존재하는 문자열이다. 문자열을 읽어서 스러피가 존재하는지를 판단하는 프로그램을 작성해야 한다.\n",
    "\n",
    "스럼프(Slump)는 다음 속성을 갖는 문자열이다.\n",
    "\n",
    "첫 번째 문자가 'D' 또는 'E'이다.\n",
    "첫 번째 문자 뒤에는 하나 이상의 'F'가 나온다.\n",
    "하나 이상의 'F' 뒤에는 또 다른 스럼프나 'G'가 온다. 스럼프는 'F' 끝에 오는 스럼프나 'G'로끝난다. 예를 들어, DFFEFFFG는 첫 번째 문자가 'D'로 시작하고 두 개의 'F'가 나오며, 또 다른스럼프 'EFFFG'로 끝난다.\n",
    "위의 경우가 아니면 스럼프가 아니다.\n",
    "\n",
    "스림프(Slimp)는 다음 속성을 갖는 문자열이다.\n",
    "\n",
    "첫 번째 문자는 'A'이다.\n",
    "두 개의 문자로만 된 스림프면, 두 번째 문자는 'H'이다.\n",
    "두 개의 문자로 된 스림프가 아니면 다음 형식 중의 하나가 된다.\n",
    "'A' + 'B' + 스림프 + 'C'. \n",
    "'A' + 스럼프 + 'C'.\n",
    "위의 경우가 아니면 스림프가 아니다.\n",
    "스러피(Slurpy)는 스림프(Slimp) 뒤에 스럼프(Slump)로 구성되는 문자열이다.\n",
    "\n",
    "다음은 그 예이다.\n",
    "\n",
    "Slumps : DFG, EFG, DFFFFFG, DFDFDFDFG, DFEFFFFFG\n",
    "Not Slumps: DFEFF, EFAHG, DEFG, DG, EFFFFDG\n",
    "Slimps: AH, ABAHC, ABABAHCC, ADFGC, ADFFFFGC, ABAEFGCC, ADFDFGC\n",
    "Not Slimps: ABC, ABAH, DFGC, ABABAHC, SLIMP, ADGC\n",
    "Slurpys: AHDFG, ADFGCDFFFFFG, ABAEFGCCDFEFFFFFG\n",
    "Not Slurpys: AHDFGA, DFGAH, ABABCC\n",
    "\n",
    "\n",
    "**입력**\n",
    "\n",
    "입력될 문자열의 개수를 나타내는 정수 N 이 1 ~ 10의 범위로 우선 입력된다. 다음 줄부터 N개의 문자열이 입력된다. 문자열은 1 ~ 60 개의 알파벳 문자로 구성된다.\n",
    "\n",
    "**출력**\n",
    "\n",
    "첫 줄에는 \"SLURPYS OUTPUT\"을 출력한다. N 개의 문자열 입력에 대해서 각 문자열이 스러피인지를 \"YES\" 또는 \"NO\"로 표기한다. 마지막으로 \"END OF OUTPUT\"를 출력한다.\n",
    "\n",
    "\n",
    "\n",
    "**Sample Input**\n",
    "\n",
    "2  \n",
    "AHDFG  \n",
    "DFGAH\n",
    "\n",
    "\n",
    "\n",
    "\n",
    "**Sample Output**\n",
    "\n",
    "SLURPYS OUTPUT  \n",
    "YES  \n",
    "NO  \n",
    "END OF OUTPUT"
   ]
  },
  {
   "cell_type": "markdown",
   "metadata": {},
   "source": [
    "# 모르겠다...흑"
   ]
  },
  {
   "cell_type": "markdown",
   "metadata": {},
   "source": [
    "## 2. \n",
    "\n",
    "The number 512 is interesting because it is equal to the sum of its digits raised to some power: 5 + 1 + 2 = 8, and $8^3$ = 512. Another example of a number with this property is 614656 = $28^4$.\n",
    "\n",
    "We shall define an to be the nth term of this sequence and insist that a number must contain at least two digits to have a sum.\n",
    "\n",
    "You are given that $a_2$ = 512 and $a_{10} $= 614656.\n",
    "\n",
    "Find $a_{30}$."
   ]
  },
  {
   "cell_type": "code",
   "execution_count": 69,
   "metadata": {},
   "outputs": [
    {
     "data": {
      "text/plain": [
       "732"
      ]
     },
     "execution_count": 69,
     "metadata": {},
     "output_type": "execute_result"
    }
   ],
   "source": [
    "ls = []\n",
    "\n",
    "for k in range(2, 17):\n",
    "    for i in range(2, 9*k+1):\n",
    "        p = 2\n",
    "        j = i ** p\n",
    "        while j < 10**k:\n",
    "            if j >= 10**(k-1):\n",
    "                ls.append(j)\n",
    "            p += 1\n",
    "            j = i ** p\n",
    "        \n",
    "        ls = list(set(ls))\n",
    "ls.sort()\n",
    "\n",
    "\n",
    "ln = ls\n",
    "len(ln)"
   ]
  },
  {
   "cell_type": "code",
   "execution_count": 79,
   "metadata": {},
   "outputs": [
    {
     "name": "stdout",
     "output_type": "stream",
     "text": [
      "[81, 512, 2401, 4913, 5832, 17576, 19683, 234256, 390625, 614656, 1679616, 17210368, 34012224, 52521875, 60466176, 205962976, 612220032, 8303765625, 10460353203, 24794911296, 27512614111, 52523350144, 68719476736, 271818611107, 1174711139837, 2207984167552, 6722988818432, 20047612231936, 72301961339136, 248155780267521, 3904305912313344]\n"
     ]
    },
    {
     "data": {
      "text/plain": [
       "248155780267521"
      ]
     },
     "execution_count": 79,
     "metadata": {},
     "output_type": "execute_result"
    }
   ],
   "source": [
    "new = []\n",
    "\n",
    "for i in ln:\n",
    "    ls = []\n",
    "    n = str(i)\n",
    "    k = list(n)\n",
    "    for j in k:\n",
    "        j = int(j)\n",
    "        ls.append(j)\n",
    "        div = sum(ls)\n",
    "    for nn in range(2, 57):\n",
    "        if div**nn == i:\n",
    "            new.append(i)\n",
    "print(new)\n",
    "new[29]   ##63의 8제곱"
   ]
  },
  {
   "cell_type": "code",
   "execution_count": null,
   "metadata": {},
   "outputs": [],
   "source": [
    "new = []\n",
    "\n",
    "for i in ln:\n",
    "    ls = []\n",
    "    n = str(i)\n",
    "    k = list(n)\n",
    "    for j in k:\n",
    "        j = int(j)\n",
    "        ls.append(j)\n",
    "        div = sum(ls)\n",
    "    u = i\n",
    "    while True:\n",
    "        if u % div == 0 and u // div == 1:\n",
    "            new.append(i)\n",
    "        elif u % div == 0:\n",
    "            u = i // div\n",
    "            continue\n",
    "        else:\n",
    "            break\n",
    "            \n",
    "print(new)\n",
    "new[29]   ##63의 8제곱"
   ]
  },
  {
   "cell_type": "code",
   "execution_count": 63,
   "metadata": {},
   "outputs": [
    {
     "data": {
      "text/plain": [
       "(512, 614656)"
      ]
     },
     "execution_count": 63,
     "metadata": {},
     "output_type": "execute_result"
    }
   ],
   "source": [
    "new[1], new[9]"
   ]
  },
  {
   "cell_type": "code",
   "execution_count": 71,
   "metadata": {},
   "outputs": [
    {
     "data": {
      "text/plain": [
       "248155780267521"
      ]
     },
     "execution_count": 71,
     "metadata": {},
     "output_type": "execute_result"
    }
   ],
   "source": [
    "63**8"
   ]
  },
  {
   "cell_type": "markdown",
   "metadata": {},
   "source": [
    "## 3.\n",
    "\n",
    "아래처럼 6 6이라는 입력을 주면 6 X 6 매트릭스에 나선형 회전을 한 값을 출력해야 한다."
   ]
  },
  {
   "cell_type": "code",
   "execution_count": 3,
   "metadata": {},
   "outputs": [],
   "source": [
    "# 6 6\n",
    "\n",
    "#   0   1   2   3   4   5\n",
    "#  19  20  21  22  23   6\n",
    "#  18  31  32  33  24   7\n",
    "#  17  30  35  34  25   8\n",
    "#  16  29  28  27  26   9\n",
    "#  15  14  13  12  11  10"
   ]
  },
  {
   "cell_type": "code",
   "execution_count": 221,
   "metadata": {},
   "outputs": [
    {
     "name": "stdout",
     "output_type": "stream",
     "text": [
      "[[ 0  1  2  3  4  5  6]\n",
      " [21 22 23 24 25 26  7]\n",
      " [20 35 36 37 38 27  8]\n",
      " [19 34 41 40 39 28  9]\n",
      " [18 33 32 31 30 29 10]\n",
      " [17 16 15 14 13 12 11]]\n"
     ]
    }
   ],
   "source": [
    "def spiral(i , j):\n",
    "    k = np.ones([i, j],dtype = 'int')\n",
    "    if i > j:\n",
    "        m = round(j/2+0.49)\n",
    "        check = j          ## check : 행과 열 중 작은 수를 할당\n",
    "    else:\n",
    "        m = round(i/2+0.49)\n",
    "        check = i\n",
    "    p = 0\n",
    "    ci = i\n",
    "    cj = j\n",
    "    if check % 2 != 0:  ## 행과 열 중 작은 수가 홀수일 때\n",
    "        for s in range(m):\n",
    "            k[s][s:s+j] = range(p, p+j)\n",
    "            k.T[cj-1][s:s+i] = range(p+j-1, p+i+j-1)\n",
    "            if s == m-1 :\n",
    "                break\n",
    "            k[ci-1][s:s+j] = range(p+i+j-2, p+i+2*j-2)[::-1]\n",
    "            k.T[s][s+1:s+1+i-2] = range(p+i+2*j-2, p+2*i+2*j-4)[::-1]\n",
    "            p += 2*(i + j -2) \n",
    "            i -= 2\n",
    "            j -= 2\n",
    "            ci -= 1\n",
    "            cj -= 1\n",
    "    else :                        ## 그 외의 경우(둘 중 하나라도 짝수일 때)\n",
    "        for s in range(m):\n",
    "            k[s][s:s+j] = range(p, p+j)\n",
    "            k.T[cj-1][s:s+i] = range(p+j-1, p+i+j-1)\n",
    "            k[ci-1][s:s+j] = range(p+i+j-2, p+i+2*j-2)[::-1]\n",
    "            k.T[s][s+1:s+1+i-2] = range(p+i+2*j-2, p+2*i+2*j-4)[::-1]\n",
    "            p += 2*(i + j -2) \n",
    "            i -= 2\n",
    "            j -= 2\n",
    "            ci -= 1\n",
    "            cj -= 1\n",
    "    print(k)\n",
    "    \n",
    "spiral(6, 7)  ###모든 크기 매트릭스 가능\n"
   ]
  },
  {
   "cell_type": "markdown",
   "metadata": {},
   "source": [
    "## 4."
   ]
  },
  {
   "cell_type": "markdown",
   "metadata": {},
   "source": [
    "다음과 같은 형태의 배열을  \n",
    "\n",
    "[a1,a2,a3...,an,b1,b2...bn]  \n",
    "\n",
    "다음과 같은 형태로 바꾸시오  \n",
    "\n",
    "[a1,b1,a2,b2.....an,bn]  "
   ]
  },
  {
   "cell_type": "markdown",
   "metadata": {},
   "source": [
    "### 2n 개의 리스트를 1, n+1, 2, n+2, ... , n, 2n  순서로바꾸기"
   ]
  },
  {
   "cell_type": "code",
   "execution_count": 219,
   "metadata": {},
   "outputs": [],
   "source": [
    "def change_list(arr):\n",
    "    new_ls = []\n",
    "    n = len(arr) / 2\n",
    "    n = int(n)\n",
    "    for i in range(n):\n",
    "        new_ls.append(arr[i])\n",
    "        new_ls.append(arr[n+i])\n",
    "\n",
    "    return new_ls\n",
    "    "
   ]
  },
  {
   "cell_type": "code",
   "execution_count": 220,
   "metadata": {},
   "outputs": [
    {
     "data": {
      "text/plain": [
       "(['A', 'D', 'B', 'E', 'C', 'F'], [0, 5, 1, 6, 2, 7, 3, 8, 4, 9])"
      ]
     },
     "execution_count": 220,
     "metadata": {},
     "output_type": "execute_result"
    }
   ],
   "source": [
    "change_list('ABCDEF'), change_list(range(10))"
   ]
  },
  {
   "cell_type": "code",
   "execution_count": null,
   "metadata": {},
   "outputs": [],
   "source": []
  }
 ],
 "metadata": {
  "kernelspec": {
   "display_name": "Python 3",
   "language": "python",
   "name": "python3"
  },
  "language_info": {
   "codemirror_mode": {
    "name": "ipython",
    "version": 3
   },
   "file_extension": ".py",
   "mimetype": "text/x-python",
   "name": "python",
   "nbconvert_exporter": "python",
   "pygments_lexer": "ipython3",
   "version": "3.6.4"
  }
 },
 "nbformat": 4,
 "nbformat_minor": 2
}
