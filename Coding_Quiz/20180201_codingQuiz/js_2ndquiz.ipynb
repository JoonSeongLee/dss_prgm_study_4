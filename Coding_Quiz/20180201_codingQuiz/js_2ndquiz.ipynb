{
 "cells": [
  {
   "cell_type": "code",
   "execution_count": 1,
   "metadata": {},
   "outputs": [
    {
     "name": "stdout",
     "output_type": "stream",
     "text": [
      "['a1' 'b1' 'c1' 'a2' 'b2' 'c2' 'a3' 'b3' 'c3' 'a4' 'b4' 'c4' 'a5' 'b5' 'c5'\n",
      " 'a6' 'b6' 'c6' 'a7' 'b7' 'c7' 'a8' 'b8' 'c8' 'a9' 'b9' 'c9' 'a10' 'b10'\n",
      " 'c10' 'a11' 'b11' 'c11' 'a12' 'b12' 'c12']\n"
     ]
    }
   ],
   "source": [
    "import re\n",
    "import numpy as np\n",
    "\n",
    "ls = ['a1','a2','a3','a4','a5','a6','a7','a8','a9','a10','a11','a12',\n",
    "      'c1','c2','c3','c4','c5','c6','c7','c8','c9','c10','c11','c12',\n",
    "      'b1','b2','b3','b4','b5','b6','b7','b8','b9','b10','b11','b12',]\n",
    "di = {}\n",
    "nls = []\n",
    "for i in range(len(ls)):\n",
    "    aa = re.findall('\\d', ls[i])\n",
    "    aa = ''.join(aa)\n",
    "    di[ls[i]] = aa                   ##숫자뽑아냄 => {밸류 = 숫자}\n",
    "m = 0\n",
    "for j in range(len(di)):\n",
    "    if int(di[ls[j]]) > m:\n",
    "        m = int(di[ls[j]])            #12 // 숫자반복\n",
    "\n",
    "for k in range(1, m+1):\n",
    "    for j in range(len(di)):\n",
    "        if int(di[ls[j]]) == k:\n",
    "            nls.append(ls[j])        # 숫자가 작은수부터 밸류를 정렬함\n",
    "            \n",
    "mm = int(len(nls)/m)\n",
    "nnls=[[]]\n",
    "\n",
    "for i in range(m):\n",
    "    ls=[]\n",
    "    for j in range(mm):\n",
    "        ls.append(nls[mm*i+j])\n",
    "    ls.sort()\n",
    "    nnls.append(ls)                   ## 밸류를 문자순대로 정렬함(이미숫자는 정렬됨)\n",
    "    \n",
    "nnls =np.hstack(nnls)\n",
    "print(nnls)"
   ]
  },
  {
   "cell_type": "code",
   "execution_count": 14,
   "metadata": {},
   "outputs": [
    {
     "name": "stdout",
     "output_type": "stream",
     "text": [
      "insert a number : 6\n",
      "[[ 0  1  2  3  4  5]\n",
      " [19 20 21 22 23  6]\n",
      " [18 31 32 33 24  7]\n",
      " [17 30 35 34 25  8]\n",
      " [16 29 28 27 26  9]\n",
      " [15 14 13 12 11 10]]\n"
     ]
    }
   ],
   "source": [
    "r = int(input(\"insert a number : \"))\n",
    "c = r\n",
    "\n",
    "aa = np.array([[-1]*r]*c)\n",
    "\n",
    "rn = 0\n",
    "cn = 0\n",
    "t = 0\n",
    "i = 0\n",
    "\n",
    "def checkstop(ar,r,c):\n",
    "    \n",
    "    isError = False\n",
    "    if r < 0 or c < 0:\n",
    "        isError = True\n",
    "        return isError\n",
    "    \n",
    "    try:\n",
    "        ar[r][c]\n",
    "    except Exception as e:\n",
    "        isError = True\n",
    "    finally:\n",
    "        return isError\n",
    "            \n",
    "\n",
    "while t <= 2*r - 1:        \n",
    "    if t % 4 == 0:                \n",
    "        aa[rn][cn] = i        \n",
    "        if checkstop(aa,rn,cn+1) == True or aa[rn][cn+1] != -1:\n",
    "            t += 1\n",
    "        else:\n",
    "            cn += 1\n",
    "            i += 1            \n",
    "        \n",
    "    if t % 4 == 1:       \n",
    "        aa[rn][cn] = i\n",
    "        if checkstop(aa,rn+1,cn) == True or aa[rn+1][cn] != -1:\n",
    "            t += 1\n",
    "        else:\n",
    "            rn += 1\n",
    "            i += 1         \n",
    "\n",
    "    if t % 4 == 2:\n",
    "        aa[rn][cn] = i\n",
    "        if checkstop(aa,rn,cn-1) == True or aa[rn][cn-1] != -1:\n",
    "            t += 1\n",
    "        else:\n",
    "            cn -= 1\n",
    "            i += 1                  \n",
    "\n",
    "    if t % 4 == 3:      \n",
    "        aa[rn][cn] = i\n",
    "        if checkstop(aa,rn-1,cn) == True or aa[rn-1][cn] != -1:\n",
    "            t += 1\n",
    "        else:\n",
    "            rn -= 1\n",
    "            i += 1 \n",
    "                \n",
    "\n",
    "print(aa)     \n",
    "        \n",
    "        "
   ]
  },
  {
   "cell_type": "code",
   "execution_count": 26,
   "metadata": {},
   "outputs": [
    {
     "data": {
      "text/plain": [
       "248155780267521"
      ]
     },
     "execution_count": 26,
     "metadata": {},
     "output_type": "execute_result"
    }
   ],
   "source": [
    "ans = []\n",
    "\n",
    "for low in range(2, 100):\n",
    "    for up in range(2, 20):\n",
    "        s=0\n",
    "        num = low ** up\n",
    "        stnum = str(num)\n",
    "        for i in range(len(stnum)):\n",
    "            s += int(stnum[i])\n",
    "        if s == low:\n",
    "            ans.append(num)  \n",
    "\n",
    "ans.sort()\n",
    "ans[29]                                   "
   ]
  }
 ],
 "metadata": {
  "kernelspec": {
   "display_name": "Python 3",
   "language": "python",
   "name": "python3"
  }
 },
 "nbformat": 4,
 "nbformat_minor": 2
}
