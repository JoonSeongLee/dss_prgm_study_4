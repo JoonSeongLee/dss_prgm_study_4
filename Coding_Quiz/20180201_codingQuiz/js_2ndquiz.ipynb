{
 "cells": [
  {
   "cell_type": "code",
   "execution_count": 4,
   "metadata": {},
   "outputs": [
    {
     "name": "stdout",
     "output_type": "stream",
     "text": [
      "['a1' 'b1' 'c1' 'a2' 'b2' 'c2' 'a3' 'b3' 'c3' 'a4' 'b4' 'c4' 'a5' 'b5' 'c5'\n",
      " 'a6' 'b6' 'c6' 'a7' 'b7' 'c7' 'a8' 'b8' 'c8' 'a9' 'b9' 'c9' 'a10' 'b10'\n",
      " 'c10' 'a11' 'b11' 'c11' 'a12' 'b12' 'c12']\n"
     ]
    }
   ],
   "source": [
    "import re\n",
    "import numpy as np\n",
    "\n",
    "ls = ['a1','a2','a3','a4','a5','a6','a7','a8','a9','a10','a11','a12',\n",
    "      'c1','c2','c3','c4','c5','c6','c7','c8','c9','c10','c11','c12',\n",
    "      'b1','b2','b3','b4','b5','b6','b7','b8','b9','b10','b11','b12',]\n",
    "di = {}\n",
    "nls = []\n",
    "for i in range(len(ls)):\n",
    "    aa = re.findall('\\d', ls[i])\n",
    "    aa = ''.join(aa)\n",
    "    di[ls[i]] = aa                   ##숫자뽑아냄 => {밸류 = 숫자}\n",
    "m = 0\n",
    "for j in range(len(di)):\n",
    "    if int(di[ls[j]]) > m:\n",
    "        m = int(di[ls[j]])            #12 // 숫자반복\n",
    "\n",
    "for k in range(1, m+1):\n",
    "    for j in range(len(di)):\n",
    "        if int(di[ls[j]]) == k:\n",
    "            nls.append(ls[j])        # 숫자가 작은수부터 밸류를 정렬함\n",
    "            \n",
    "mm = int(len(nls)/m)\n",
    "nnls=[[]]\n",
    "\n",
    "for i in range(m):\n",
    "    ls=[]\n",
    "    for j in range(mm):\n",
    "        ls.append(nls[mm*i+j])\n",
    "    ls.sort()\n",
    "    nnls.append(ls)                   ## 밸류를 문자순대로 정렬함(이미숫자는 정렬됨)\n",
    "    \n",
    "nnls =np.hstack(nnls)\n",
    "print(nnls)"
   ]
  },
  {
   "cell_type": "code",

   "execution_count": 3,

   "execution_count": 5,

   "metadata": {},
   "outputs": [
    {
     "name": "stdout",
     "output_type": "stream",
     "text": [

      "insert a number : 10\n",
      "[[ 0  1  2  3  4  5  6  7  8  9]\n",
      " [35 36 37 38 39 40 41 42 43 10]\n",
      " [34 63 64 65 66 67 68 69 44 11]\n",
      " [33 62 83 84 85 86 87 70 45 12]\n",
      " [32 61 82 95 96 97 88 71 46 13]\n",
      " [31 60 81 94 99 98 89 72 47 14]\n",
      " [30 59 80 93 92 91 90 73 48 15]\n",
      " [29 58 79 78 77 76 75 74 49 16]\n",
      " [28 57 56 55 54 53 52 51 50 17]\n",
      " [27 26 25 24 23 22 21 20 19 18]]\n"

      "insert a number : 7\n",
      "[[ 0  1  2  3  4  5  6]\n",
      " [23 24 25 26 27 28  7]\n",
      " [22 39 40 41 42 29  8]\n",
      " [21 38 47 48 43 30  9]\n",
      " [20 37 46 45 44 31 10]\n",
      " [19 36 35 34 33 32 11]\n",
      " [18 17 16 15 14 13 12]]\n"

     ]
    }
   ],
   "source": [
    "r = int(input(\"insert a number : \"))\n",
    "c = r\n",
    "\n",
    "aa = np.array([[-1]*r]*c)\n",
    "\n",
    "rn = 0\n",
    "cn = 0\n",
    "t = 0\n",
    "i = 0\n",
    "\n",
    "def checkstop(ar,r,c):\n",
    "    \n",
    "    isError = False\n",
    "    if r < 0 or c < 0:\n",
    "        isError = True\n",
    "        return isError\n",
    "    \n",
    "    try:\n",
    "        ar[r][c]\n",
    "    except Exception as e:\n",
    "        isError = True\n",
    "    finally:\n",
    "        return isError\n",
    "            \n",
    "\n",
    "while t <= 2*r - 1:        \n",
    "    if t % 4 == 0:                \n",
    "        aa[rn][cn] = i        \n",
    "        if checkstop(aa,rn,cn+1) == True or aa[rn][cn+1] != -1:\n",
    "            t += 1\n",
    "        else:\n",
    "            cn += 1\n",
    "            i += 1            \n",
    "        \n",
    "    if t % 4 == 1:       \n",
    "        aa[rn][cn] = i\n",
    "        if checkstop(aa,rn+1,cn) == True or aa[rn+1][cn] != -1:\n",
    "            t += 1\n",
    "        else:\n",
    "            rn += 1\n",
    "            i += 1         \n",
    "\n",
    "    if t % 4 == 2:\n",
    "        aa[rn][cn] = i\n",
    "        if checkstop(aa,rn,cn-1) == True or aa[rn][cn-1] != -1:\n",
    "            t += 1\n",
    "        else:\n",
    "            cn -= 1\n",
    "            i += 1                  \n",
    "\n",
    "    if t % 4 == 3:      \n",
    "        aa[rn][cn] = i\n",
    "        if checkstop(aa,rn-1,cn) == True or aa[rn-1][cn] != -1:\n",
    "            t += 1\n",
    "        else:\n",
    "            rn -= 1\n",
    "            i += 1 \n",
    "                \n",
    "\n",
    "print(aa)     \n",
    "        \n",
    "        "
   ]
  },
  {
   "cell_type": "code",
   "execution_count": 1,
   "metadata": {},
   "outputs": [
    {
     "data": {
      "text/plain": [
       "[81,\n",
       " 512,\n",
       " 2401,\n",
       " 4913,\n",
       " 5832,\n",
       " 17576,\n",
       " 19683,\n",
       " 234256,\n",
       " 390625,\n",
       " 614656,\n",
       " 1679616,\n",
       " 17210368,\n",
       " 34012224,\n",
       " 52521875,\n",
       " 60466176,\n",
       " 205962976,\n",
       " 612220032,\n",
       " 8303765625,\n",
       " 10460353203,\n",
       " 24794911296,\n",
       " 27512614111,\n",
       " 52523350144,\n",
       " 68719476736,\n",
       " 271818611107,\n",
       " 1174711139837,\n",
       " 2207984167552,\n",
       " 6722988818432,\n",
       " 20047612231936,\n",
       " 72301961339136,\n",
       " 248155780267521,\n",
       " 3904305912313344,\n",
       " 45848500718449031,\n",
       " 150094635296999121]"
      ]
     },
     "execution_count": 1,
     "metadata": {},
     "output_type": "execute_result"
    }
   ],
   "source": [
    "ans = []\n",
    "\n",
    "for low in range(2, 100):\n",
    "    for up in range(2, 10):\n",
    "        s=0\n",
    "        num = low ** up\n",
    "        stnum = str(num)\n",
    "        for i in range(len(stnum)):\n",
    "            s += int(stnum[i])\n",
    "        if s == low:\n",
    "            ans.append(num)  \n",
    "\n",
    "ans.sort()\n",
    "ans                                   "
   ]
  },
  {
   "cell_type": "code",
   "execution_count": null,
   "metadata": {},
   "outputs": [],
   "source": []
  }
 ],
 "metadata": {
  "kernelspec": {
   "display_name": "Python 3",
   "language": "python",
   "name": "python3"
  },
  "language_info": {
   "codemirror_mode": {
    "name": "ipython",
    "version": 3
   },
   "file_extension": ".py",
   "mimetype": "text/x-python",
   "name": "python",
   "nbconvert_exporter": "python",
   "pygments_lexer": "ipython3",

  }
 },
 "nbformat": 4,
 "nbformat_minor": 2
}
