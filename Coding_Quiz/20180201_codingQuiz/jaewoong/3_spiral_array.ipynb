{
 "cells": [
  {
   "cell_type": "code",
   "execution_count": 5,
   "metadata": {},
   "outputs": [],
   "source": [
    "import numpy as np\n",
    "import pandas as pd"
   ]
  },
  {
   "cell_type": "markdown",
   "metadata": {},
   "source": [
    "1. 짝수면 (n//2, n//2, n//2, n//2-1) D를 한번 덜 함\n",
    "2. 홀수면 (n//2+1, n//2, n//2, n//2) A를 한번 더 함"
   ]
  },
  {
   "cell_type": "code",
   "execution_count": 13,
   "metadata": {},
   "outputs": [],
   "source": [
    "def make(df, n, current, rotation):\n",
    "    print(n, current, rotation)\n",
    "    \n",
    "    # A.\n",
    "    array = [current + each for each in range(n)]\n",
    "    df.loc[rotation, rotation:n + rotation - 1] = array\n",
    "    current = max(array) + 1 if array else 0\n",
    "\n",
    "    # B.\n",
    "    array = [current + each for each in range(n - 1)]\n",
    "    df.loc[rotation + 1:n +rotation - 1, n - 1 + rotation] = array\n",
    "    current = max(array) + 1 if array else 0\n",
    "\n",
    "    # C. n\n",
    "    array = [current + each for each in reversed(range(n - 1))]\n",
    "    df.loc[n - 1+rotation, rotation:n - 2 + rotation] = array\n",
    "    current = max(array) + 1 if array else 0\n",
    "\n",
    "    # D.\n",
    "    array = [current + each for each in reversed(range(n - 2))]\n",
    "    df.loc[rotation + 1:n - 2+rotation, rotation] = array\n",
    "    current = max(array) + 1 if array else 0\n",
    "\n",
    "    return df, n - 2, current, rotation + 1"
   ]
  },
  {
   "cell_type": "code",
   "execution_count": 18,
   "metadata": {},
   "outputs": [],
   "source": [
    "def spiral_array(n):\n",
    "    df = pd.DataFrame(columns=list(range(n)))\n",
    "\n",
    "    for each in range(n):\n",
    "        df.loc[each] = [0 for _ in range(n)]\n",
    "\n",
    "    current = 0\n",
    "    rotation = 0\n",
    "    \n",
    "    total = n//2 if n%2==0 else n//2+1\n",
    "    \n",
    "    for _ in range(total):\n",
    "        df, n, current, rotation = make(df,n,current,rotation)\n",
    "    return df.astype('int')"
   ]
  },
  {
   "cell_type": "code",
   "execution_count": 26,
   "metadata": {},
   "outputs": [
    {
     "name": "stdout",
     "output_type": "stream",
     "text": [
      "4 0 0\n",
      "2 12 1\n"
     ]
    },
    {
     "data": {
      "text/html": [
       "<div>\n",
       "<style scoped>\n",
       "    .dataframe tbody tr th:only-of-type {\n",
       "        vertical-align: middle;\n",
       "    }\n",
       "\n",
       "    .dataframe tbody tr th {\n",
       "        vertical-align: top;\n",
       "    }\n",
       "\n",
       "    .dataframe thead th {\n",
       "        text-align: right;\n",
       "    }\n",
       "</style>\n",
       "<table border=\"1\" class=\"dataframe\">\n",
       "  <thead>\n",
       "    <tr style=\"text-align: right;\">\n",
       "      <th></th>\n",
       "      <th>0</th>\n",
       "      <th>1</th>\n",
       "      <th>2</th>\n",
       "      <th>3</th>\n",
       "    </tr>\n",
       "  </thead>\n",
       "  <tbody>\n",
       "    <tr>\n",
       "      <th>0</th>\n",
       "      <td>0</td>\n",
       "      <td>1</td>\n",
       "      <td>2</td>\n",
       "      <td>3</td>\n",
       "    </tr>\n",
       "    <tr>\n",
       "      <th>1</th>\n",
       "      <td>11</td>\n",
       "      <td>12</td>\n",
       "      <td>13</td>\n",
       "      <td>4</td>\n",
       "    </tr>\n",
       "    <tr>\n",
       "      <th>2</th>\n",
       "      <td>10</td>\n",
       "      <td>15</td>\n",
       "      <td>14</td>\n",
       "      <td>5</td>\n",
       "    </tr>\n",
       "    <tr>\n",
       "      <th>3</th>\n",
       "      <td>9</td>\n",
       "      <td>8</td>\n",
       "      <td>7</td>\n",
       "      <td>6</td>\n",
       "    </tr>\n",
       "  </tbody>\n",
       "</table>\n",
       "</div>"
      ],
      "text/plain": [
       "    0   1   2  3\n",
       "0   0   1   2  3\n",
       "1  11  12  13  4\n",
       "2  10  15  14  5\n",
       "3   9   8   7  6"
      ]
     },
     "execution_count": 26,
     "metadata": {},
     "output_type": "execute_result"
    }
   ],
   "source": [
    "spiral_array(4)"
   ]
  },
  {
   "cell_type": "code",
   "execution_count": null,
   "metadata": {},
   "outputs": [],
   "source": []
  }
 ],
 "metadata": {
  "anaconda-cloud": {},
  "kernelspec": {
   "display_name": "Python [default]",
   "language": "python",
   "name": "python3"
  },
  "language_info": {
   "codemirror_mode": {
    "name": "ipython",
    "version": 3
   },
   "file_extension": ".py",
   "mimetype": "text/x-python",
   "name": "python",
   "nbconvert_exporter": "python",
   "pygments_lexer": "ipython3",
   "version": "3.5.2"
  }
 },
 "nbformat": 4,
 "nbformat_minor": 2
}
