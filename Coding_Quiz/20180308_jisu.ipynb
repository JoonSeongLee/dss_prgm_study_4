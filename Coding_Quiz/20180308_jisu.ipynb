{
 "cells": [
  {
   "cell_type": "markdown",
   "metadata": {},
   "source": [
    "# 공항 건설하기"
   ]
  },
  {
   "cell_type": "markdown",
   "metadata": {},
   "source": [
    "1보다 큰 N개의 도시 중 한 곳에 공항을 지을 예정입니다. 사람들의 편의를 위해 공항으로부터 각 사람들까지의 도시간 이동 거리가 최소가 되는 도시에 짓기로 하였습니다. 편의상 도시는 일직선상에 놓여있다고 가정하며 좌표의 범위는 음수가 포함됩니다. 또한 좌표는 정렬되어 있지 않습니다. 직선상의 위치와 그 도시에 사는 사람들의 수가 주어질 때, 공항을 지을 도시의 위치를 반환해주는 함수 chooseCity 함수를 완성하세요. 거리가 같은 도시가 2개 이상일 경우 위치가 더 작은 쪽의 도시를 선택하면 됩니다. 예를 들어 다음과 같은 정보의 도시가 있다고 가정해 봅시다. \n",
    "[1,5],[2,2],[3,3]\n",
    "이 살 경우, 각각의 도시에 공항을 지었을 때의 사람들의 이동 거리는 8, 8, 12 이므로 1번 또는 2번에 지을 수 있지만, 1의 위치가 더 작으므로 1을 반환해주면 됩니다."
   ]
  },
  {
   "cell_type": "code",
   "execution_count": 172,
   "metadata": {},
   "outputs": [
    {
     "name": "stdout",
     "output_type": "stream",
     "text": [
      "1\n"
     ]
    }
   ],
   "source": [
    "def chooseCity(n, city):\n",
    "    ls_ppl = [city[i][1] for i in range(n)]   ## 인구수 리스트\n",
    "    ls_loc = [city[i][0] for i in range(n)]   ## 위치 리스트\n",
    "    pivot_1 = 0\n",
    "    pivot_2 = n-1\n",
    "    while True :  ## 이진탐색 원리\n",
    "        pivot_m = int(round((pivot_1 + pivot_2)/2 + 0.1))\n",
    "        less = ls_ppl[:pivot_m]\n",
    "        greater = ls_ppl[pivot_m:]\n",
    "        if sum(less) == sum(greater):\n",
    "            answer = pivot_m - 1  ## 이동거리가 같을 때 더 작은 쪽의 도시 선택\n",
    "            break\n",
    "        elif sum(less) < sum(greater):\n",
    "            pivot_1 = pivot_m\n",
    "        else:\n",
    "            pivot_2 = pivot_m - 1\n",
    "        if pivot_1 == pivot_2 :\n",
    "            answer = pivot_1\n",
    "            break\n",
    "    return ls_loc[answer]\n",
    "print(chooseCity(3,[[1,5],[2,2],[3,3]]))"
   ]
  },
  {
   "cell_type": "markdown",
   "metadata": {},
   "source": [
    "# 과자 많이 먹기"
   ]
  },
  {
   "cell_type": "code",
   "execution_count": 300,
   "metadata": {},
   "outputs": [
    {
     "name": "stdout",
     "output_type": "stream",
     "text": [
      "[4, 2, 6, 3, 4, 1, 5]\n",
      "5\n"
     ]
    }
   ],
   "source": [
    "print(eatCookie([1, 4, 2, 6, 3, 4, 1, 5]))"
   ]
  },
  {
   "cell_type": "code",
   "execution_count": 299,
   "metadata": {},
   "outputs": [
    {
     "name": "stdout",
     "output_type": "stream",
     "text": [
      "[8, 4, 2, 6, 3, 4, 1, 5, 9, 2]\n",
      "6\n"
     ]
    }
   ],
   "source": [
    "print(eatCookie([9, 7, 1, 8, 4, 2, 6, 3, 4, 1, 5, 9, 2]))"
   ]
  },
  {
   "cell_type": "code",
   "execution_count": 303,
   "metadata": {},
   "outputs": [],
   "source": [
    "def eatCookie(cookies):\n",
    "    new_cookies = cookies.copy()    \n",
    "    new_cookies = list(set(cookies))\n",
    "    new_cookies.sort()\n",
    "    n = len(new_cookies)\n",
    "    new_cookies_2 = new_cookies[1:]\n",
    "    idx_1 = cookies.index(new_cookies[0])\n",
    "    print(new_cookies)\n",
    "    cookies_ls = cookies[idx_1+1:]\n",
    "    print(cookies_ls)\n",
    "    for i in new_cookies_2:\n",
    "        \n",
    "        if i in cookies_ls:\n",
    "            idx_1 = cookies_ls.index(i)\n",
    "            cookies_ls = cookies_ls[idx_1+1:]\n",
    "            \n",
    "        else:\n",
    "            n -= 1  \n",
    "        \n",
    "    answer = n\n",
    "\n",
    "    return answer"
   ]
  },
  {
   "cell_type": "code",
   "execution_count": 301,
   "metadata": {},
   "outputs": [
    {
     "name": "stdout",
     "output_type": "stream",
     "text": [
      "[22, 530, 910, 109, 437, 335, 27, 109, 41, 81, 230, 747, 566, 594, 586, 395, 782, 434, 125, 205, 690]\n"
     ]
    },
    {
     "data": {
      "text/plain": [
       "8"
      ]
     },
     "execution_count": 301,
     "metadata": {},
     "output_type": "execute_result"
    }
   ],
   "source": [
    "eatCookie([666, 522, 621, 983, 378, 994, 145, 732, 772, 366, 198, 281, 61, 892, 143, 865, 735, 485, 481, 606, 564, 711, 957, 325, 979, 910, 259, 713, 8, 22, 530, 910, 109, 437, 335, 27, 109, 41, 81, 230, 747, 566, 594, 586, 395, 782, 434, 125, 205, 690])"
   ]
  },
  {
   "cell_type": "code",
   "execution_count": 304,
   "metadata": {},
   "outputs": [
    {
     "name": "stdout",
     "output_type": "stream",
     "text": [
      "[10, 36, 81, 118, 132, 167, 178, 231, 259, 298, 302, 326, 349, 351, 373, 396, 411, 425, 445, 497, 537, 554, 566, 569, 573, 577, 594, 625, 692, 705, 731, 732, 752, 760, 774, 787, 802, 820, 822, 824, 834, 835, 849, 884, 918, 934, 971, 977, 986, 991]\n",
      "[81, 178, 971, 573, 411, 326, 298, 774, 594, 752, 425, 822, 835, 36, 731, 132, 787, 118, 732, 537, 625, 349, 918, 991, 167, 760, 934, 577]\n"
     ]
    },
    {
     "data": {
      "text/plain": [
       "5"
      ]
     },
     "execution_count": 304,
     "metadata": {},
     "output_type": "execute_result"
    }
   ],
   "source": [
    "eatCookie([884, 977, 849, 497, 802, 396, 231, 351, 445, 824, 373, 554, 705, 986, 259, 569, 834, 566, 302, 820, 692, 10, 81, 178, 971, 573, 411, 326, 298, 774, 594, 752, 425, 822, 835, 36, 731, 132, 787, 118, 732, 537, 625, 349, 918, 991, 167, 760, 934, 577])"
   ]
  },
  {
   "cell_type": "code",
   "execution_count": null,
   "metadata": {},
   "outputs": [],
   "source": []
  }
 ],
 "metadata": {
  "kernelspec": {
   "display_name": "Python 3",
   "language": "python",
   "name": "python3"
  },
  "language_info": {
   "codemirror_mode": {
    "name": "ipython",
    "version": 3
   },
   "file_extension": ".py",
   "mimetype": "text/x-python",
   "name": "python",
   "nbconvert_exporter": "python",
   "pygments_lexer": "ipython3",
   "version": "3.6.4"
  }
 },
 "nbformat": 4,
 "nbformat_minor": 2
}
