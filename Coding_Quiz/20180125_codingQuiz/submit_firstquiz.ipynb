{
 "cells": [
  {
   "cell_type": "code",
   "execution_count": 8,
   "metadata": {},
   "outputs": [
    {
     "name": "stdout",
     "output_type": "stream",
     "text": [
      "233168\n"
     ]
    }
   ],
   "source": [
    "# 10미만의 자연수에서 3과 5의 배수를 구하면 3,5,6,9이다. 이들의 총합은 23이다.\n",
    "# 1000미만의 자연수에서 3,5의 배수의 총합을 구하라.\n",
    "sum=0\n",
    "for n in range(1000):\n",
    "    if n%5 ==0 or n%3 == 0:\n",
    "           sum += n\n",
    "print(sum)"
   ]
  },
  {
   "cell_type": "code",
   "execution_count": 7,
   "metadata": {},
   "outputs": [
    {
     "name": "stdout",
     "output_type": "stream",
     "text": [
      "168\n"
     ]
    }
   ],
   "source": [
    "#2이상 1000이하 자연수의 집합에서 소수의 개수를 구하는 알고리즘을 작성하시오.\n",
    "prime_num = []\n",
    "\n",
    "for i in range(2,1001):\n",
    "    if len(prime_num) == 0:\n",
    "        prime_num.append(i)       \n",
    "    else:\n",
    "        check = 0\n",
    "        for k in range(len(prime_num)) :\n",
    "            if i % prime_num[k] != 0 :\n",
    "                check += 1\n",
    "        if check == len(prime_num) :\n",
    "            prime_num.append(i)\n",
    "\n",
    "print(len(prime_num))       "
   ]
  },
  {
   "cell_type": "code",
   "execution_count": 6,
   "metadata": {},
   "outputs": [
    {
     "name": "stdout",
     "output_type": "stream",
     "text": [
      "[1, 2, 3, 5, 8, 13, 21, 34, 55, 89, 144, 233, 377, 610, 987, 1597, 2584, 4181, 6765, 10946, 17711, 28657, 46368, 75025, 121393, 196418, 317811]\n"
     ]
    }
   ],
   "source": [
    "# 피보나치 수열의 각 항은 바로 앞의 항 두 개를 더한 것이 됩니다. 1과 2로 시작하는 경우 이 수열은 아래와 같습니다.\n",
    "\n",
    "# 1, 2, 3, 5, 8, 13, 21, 34, 55, 89, ...\n",
    "\n",
    "# 짝수이면서 4백만 이하인 모든 항을 더하면 얼마가 됩니까?\n",
    "fibon = []\n",
    "fibon.append(1)\n",
    "fibon.append(2)\n",
    "a = fibon[0]\n",
    "b = fibon[1]\n",
    "c = 0\n",
    "while c <= 400000 :\n",
    "    c = a + b\n",
    "    if c <= 400000 :\n",
    "        fibon.append(c)\n",
    "        a = b\n",
    "        b = c\n",
    "sum = 0\n",
    "for i in fibon:\n",
    "    if i % 2 == 0:\n",
    "        sum += i \n",
    "sum\n",
    "print(fibon)"
   ]
  },
  {
   "cell_type": "code",
   "execution_count": 1,
   "metadata": {},
   "outputs": [
    {
     "data": {
      "text/plain": [
       "4000"
      ]
     },
     "execution_count": 1,
     "metadata": {},
     "output_type": "execute_result"
    }
   ],
   "source": [
    "#1부터 10,000까지 8이라는 숫자가 총 몇번 나오는가?\n",
    "\n",
    "# 8이 포함되어 있는 숫자의 갯수를 카운팅 하는 것이 아니라 8이라는 숫자를 모두 카운팅 해야 한다.\n",
    "# (※ 예를들어 8808은 3, 8888은 4로 카운팅 해야 함)\n",
    "\n",
    "count = 0\n",
    "for i in range(1, 10000 + 1):\n",
    "    num = str(i)\n",
    "    for j in range(len(num)):\n",
    "        if num[j] == '8':\n",
    "            count += 1\n",
    "count            "
   ]
  }
 ],
 "metadata": {
  "kernelspec": {
   "display_name": "Python 3",
   "language": "python",
   "name": "python3"
  },
  "language_info": {
   "codemirror_mode": {
    "name": "ipython",
    "version": 3
   },
   "file_extension": ".py",
   "mimetype": "text/x-python",
   "name": "python",
   "nbconvert_exporter": "python",
   "pygments_lexer": "ipython3",
   "version": "3.6.2"
  }
 },
 "nbformat": 4,
 "nbformat_minor": 2
}
