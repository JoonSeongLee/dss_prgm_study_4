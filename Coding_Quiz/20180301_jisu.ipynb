{
 "cells": [
  {
   "cell_type": "markdown",
   "metadata": {},
   "source": [
    "## 야근 지수\n",
    "회사원인 수민이는 많은 일이 쌓여 있습니다. 수민이는 야근을 최소화하기 위해 남은 일의 작업량을 숫자로 메기고, 일에 대한 야근 지수를 줄이기로 결정했습니다. 야근 지수는 남은 일의 작업량을 제곱하여 더한 값을 의미합니다. 수민이는 1시간 동안 남은 일 중 하나를 골라 작업량 1만큼 처리할 수 있습니다. 수민이의 퇴근까지 남은 N 시간과 각 일에 대한 작업량이 있을 때, noOvertime 함수를 제작하여 수민이의 야근 지수를 최소화 한 결과를 출력해 주세요. 예를 들어, N=4 일 때, 남은 일의 작업량이 [4, 3, 3] 이라면 야근 지수를 최소화하기 위해 일을 한 결과는 [2, 2, 2]가 되고 야근 지수는 $2^2 + 2^2 + 2^2 = 1^2$가 되어 $1^2$를 반환해 줍니다."
   ]
  },
  {
   "cell_type": "code",
   "execution_count": 5,
   "metadata": {},
   "outputs": [],
   "source": [
    "def noOvertime(n, works):\n",
    "    result = 0\n",
    "    while n > 0:\n",
    "        m = max(works)  ## 작업량이 가장 큰 작업부터 처리한다.\n",
    "        works.remove(m)  \n",
    "        works.append(m-1)  ## 작업량이 가장 큰 작업을 1만큼 처리한다.\n",
    "        n -= 1\n",
    "    result = [work**2 for work in works]\n",
    "    result = sum(result)\n",
    "    return result"
   ]
  },
  {
   "cell_type": "markdown",
   "metadata": {},
   "source": [
    "## 숫자의 표현\n",
    "수학을 공부하던 민지는 재미있는 사실을 발견하였습니다. 그 사실은 바로 연속된 자연수의 합으로 어떤 숫자를 표현하는 방법이 여러 가지라는 것입니다. 예를 들어, 15를 표현하는 방법은\n",
    "(1+2+3+4+5)\n",
    "(4+5+6)\n",
    "(7+8)\n",
    "(15)\n",
    "로 총 4가지가 존재합니다. 숫자를 입력받아 연속된 수로 표현하는 방법을 반환하는 expressions 함수를 만들어 민지를 도와주세요. 예를 들어 15가 입력된다면 4를 반환해 주면 됩니다."
   ]
  },
  {
   "cell_type": "code",
   "execution_count": 2,
   "metadata": {},
   "outputs": [
    {
     "name": "stdout",
     "output_type": "stream",
     "text": [
      "5\n"
     ]
    }
   ],
   "source": [
    "def expressions(num):\n",
    "    answer_e = 1  ## 짝수는 자기자신은 무조건 표현가능\n",
    "    answer_o = 2  ## 1을 제외한 홀수는 자기자신과 두 개의 수로 무조건 표현가능\n",
    "    if num == 1:   ## 1일 때는 자기자신 밖에 표현하지 못한다.\n",
    "        answer = 1\n",
    "    elif num % 2 == 0:  ## 짝수일 때\n",
    "        ls = [i for i in range(1, num+1) if i % 2 == 0]\n",
    "        for k in ls:    ## 짝수개로 표현\n",
    "            if (num-k) % (2*k) == 0 and ((num-k)/(2*k)-k+1) > 0:\n",
    "                answer_e += 1\n",
    "        ls = [i for i in range(3, num+1) if i % 2 != 0]\n",
    "        for j in ls:    ## 홀수개로 표현\n",
    "            if num % j == 0 and (num/j)-((j-1)/2) > 0:\n",
    "                answer_e += 1\n",
    "        answer = answer_e\n",
    "    else:  ## 홀수일 때\n",
    "        ls = [i for i in range(3, num+1) if i % 2 != 0]\n",
    "        for k in ls:  ## 홀수개로 표현\n",
    "            if num % k == 0 and (num/k)-((k-1)/2) > 0:\n",
    "                answer_o += 1\n",
    "        for j in ls:  ## 짝수개로 표현\n",
    "            if (num-j) % (2*j) == 0 and ((num-j)/(2*j)-j+1) > 0:\n",
    "                answer_o += 1\n",
    "        answer = answer_o  \n",
    "    return answer\n",
    "    \n",
    "# 아래는 테스트로 출력해 보기 위한 코드입니다.\n",
    "print(expressions(10000));\n"
   ]
  },
  {
   "cell_type": "markdown",
   "metadata": {},
   "source": [
    "## 하샤드수\n",
    "양의 정수 x가 하샤드 수이려면 x의 자릿수의 합으로 x가 나누어져야 합니다. 예를들어 18의 자릿수 합은 1+8=9이고, 18은 9로 나누어 떨어지므로 18은 하샤드 수입니다. Harshad함수는 양의 정수 n을 매개변수로 입력받습니다. 이 n이 하샤드수인지 아닌지 판단하는 함수를 완성하세요.\n",
    "예를들어 n이 10, 12, 18이면 True를 리턴 11, 13이면 False를 리턴하면 됩니다."
   ]
  },
  {
   "cell_type": "code",
   "execution_count": 10,
   "metadata": {},
   "outputs": [
    {
     "name": "stdout",
     "output_type": "stream",
     "text": [
      "True\n"
     ]
    }
   ],
   "source": [
    "def Harshad(n):\n",
    "    num = list(str(n))\n",
    "    s = 0\n",
    "    for i in num:\n",
    "        s += int(i)\n",
    "    if n % s == 0:\n",
    "        return True\n",
    "    else:\n",
    "        return False\n",
    "\n",
    "# 아래는 테스트로 출력해 보기 위한 코드입니다.\n",
    "print(Harshad(18))"
   ]
  },
  {
   "cell_type": "markdown",
   "metadata": {},
   "source": [
    "## 가장 긴 팰린드롬\n",
    "앞뒤를 뒤집어도 똑같은 문자열을 palindrome이라고 합니다.\n",
    "longest_palindrom함수는 문자열 s를 매개변수로 입력받습니다.\n",
    "s의 부분문자열중 가장 긴 palindrom의 길이를 리턴하는 함수를 완성하세요.\n",
    "예를들어 s가 토마토맛토마토이면 7을 리턴하고 토마토맛있어이면 3을 리턴합니다."
   ]
  },
  {
   "cell_type": "code",
   "execution_count": 1,
   "metadata": {},
   "outputs": [
    {
     "name": "stdout",
     "output_type": "stream",
     "text": [
      "7\n",
      "3\n"
     ]
    }
   ],
   "source": [
    "def longest_palindrom(s):\n",
    "    pal = list(s)\n",
    "    n = len(pal)\n",
    "    ls = []\n",
    "    for i in range(n):\n",
    "        new_pal = pal[i:]\n",
    "        start = 0\n",
    "        end = len(new_pal)-1\n",
    "        check = 0\n",
    "        while start < end:\n",
    "            if new_pal[start] == new_pal[end]:\n",
    "                check += 2\n",
    "                start += 1\n",
    "                end -= 1\n",
    "            else:\n",
    "                end -= 1\n",
    "                check = 0\n",
    "        if end == start:\n",
    "            check += 1\n",
    "        ls.append(check)\n",
    "        \n",
    "    return max(ls)\n",
    "\n",
    "\n",
    "\n",
    "# 아래는 테스트로 출력해 보기 위한 코드입니다.\n",
    "print(longest_palindrom(\"토마토맛토마토\"))\n",
    "print(longest_palindrom(\"토마토맛있어\"))"
   ]
  },
  {
   "cell_type": "code",
   "execution_count": 2,
   "metadata": {},
   "outputs": [
    {
     "name": "stdout",
     "output_type": "stream",
     "text": [
      "14.8 µs ± 242 ns per loop (mean ± std. dev. of 7 runs, 100000 loops each)\n"
     ]
    }
   ],
   "source": [
    "%%timeit\n",
    "longest_palindrom(\"색갈은짙은갈색갈은짙은갈색\")"
   ]
  },
  {
   "cell_type": "code",
   "execution_count": null,
   "metadata": {},
   "outputs": [],
   "source": []
  }
 ],
 "metadata": {
  "kernelspec": {
   "display_name": "Python 3",
   "language": "python",
   "name": "python3"
  },
  "language_info": {
   "codemirror_mode": {
    "name": "ipython",
    "version": 3
   },
   "file_extension": ".py",
   "mimetype": "text/x-python",
   "name": "python",
   "nbconvert_exporter": "python",
   "pygments_lexer": "ipython3",
   "version": "3.6.4"
  }
 },
 "nbformat": 4,
 "nbformat_minor": 2
}
