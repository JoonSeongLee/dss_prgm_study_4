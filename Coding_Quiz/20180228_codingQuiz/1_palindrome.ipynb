{
 "cells": [
  {
   "cell_type": "markdown",
   "metadata": {},
   "source": [
    "0. for each in string:\n",
    "    1. 중간에서 시작\n",
    "    2. 양 옆으로 검사, 같으면 +2\n",
    "    3. 다르면 현재 갯수 return"
   ]
  },
  {
   "cell_type": "code",
   "execution_count": 1,
   "metadata": {},
   "outputs": [],
   "source": [
    "def find_even(s):\n",
    "    maximum = -1\n",
    "\n",
    "    for i, tok in enumerate(s):\n",
    "        count = 0\n",
    "        offset = 1\n",
    "\n",
    "        while 0 <= i - offset and i < len(s):\n",
    "            right = s[i]\n",
    "            left = s[i - offset]\n",
    "            \n",
    "            if right == left:\n",
    "                count+=2\n",
    "            offset += 1\n",
    "        \n",
    "        if maximum < count:\n",
    "            maximum = count\n",
    "            \n",
    "    return maximum"
   ]
  },
  {
   "cell_type": "code",
   "execution_count": 2,
   "metadata": {},
   "outputs": [],
   "source": [
    "def find_odd(s):\n",
    "    maximum = -1\n",
    "\n",
    "    for i, tok in enumerate(s):\n",
    "        count = 1\n",
    "        offset = 1\n",
    "\n",
    "        while 0 <= i - offset and i + offset < len(s):\n",
    "            right = s[i + offset]\n",
    "            left = s[i - offset]\n",
    "\n",
    "            if right == left:\n",
    "                count += 2\n",
    "\n",
    "            offset += 1\n",
    "\n",
    "        if maximum < count:\n",
    "            maximum = count\n",
    "\n",
    "    return maximum"
   ]
  },
  {
   "cell_type": "code",
   "execution_count": 3,
   "metadata": {},
   "outputs": [],
   "source": [
    "def find(s):\n",
    "    return find_even(s) if len(s) % 2 == 0 else find_odd(s)"
   ]
  },
  {
   "cell_type": "code",
   "execution_count": 4,
   "metadata": {},
   "outputs": [
    {
<<<<<<< HEAD
     "name": "stdout",
     "output_type": "stream",
     "text": [
      "17.1 µs ± 219 ns per loop (mean ± std. dev. of 7 runs, 100000 loops each)\n"
     ]
    }
   ],
   "source": [
    "%%timeit\n",
    "find(\"색갈은짙은갈색갈은짙은갈색\")"
=======
     "data": {
      "text/plain": [
       "13"
      ]
     },
     "execution_count": 4,
     "metadata": {},
     "output_type": "execute_result"
    }
   ],
   "source": [
    "s = '색갈은짙은갈색갈은짙은갈색'\n",
    "find(s)"
>>>>>>> b8e7ab9c2baac0fc13d923d92787364a8dd95a1f
   ]
  },
  {
   "cell_type": "code",
<<<<<<< HEAD
=======
   "execution_count": 6,
   "metadata": {},
   "outputs": [
    {
     "name": "stdout",
     "output_type": "stream",
     "text": [
      "22.6 µs ± 1.65 µs per loop (mean ± std. dev. of 7 runs, 10000 loops each)\n"
     ]
    }
   ],
   "source": [
    "%%timeit\n",
    "find(s)"
   ]
  },
  {
   "cell_type": "code",
>>>>>>> b8e7ab9c2baac0fc13d923d92787364a8dd95a1f
   "execution_count": null,
   "metadata": {},
   "outputs": [],
   "source": []
  }
 ],
 "metadata": {
  "kernelspec": {
   "display_name": "Python 3",
   "language": "python",
   "name": "python3"
  },
  "language_info": {
   "codemirror_mode": {
    "name": "ipython",
    "version": 3
   },
   "file_extension": ".py",
   "mimetype": "text/x-python",
   "name": "python",
   "nbconvert_exporter": "python",
   "pygments_lexer": "ipython3",
<<<<<<< HEAD
   "version": "3.6.4"
=======
   "version": "3.6.2"
>>>>>>> b8e7ab9c2baac0fc13d923d92787364a8dd95a1f
  }
 },
 "nbformat": 4,
 "nbformat_minor": 2
}
