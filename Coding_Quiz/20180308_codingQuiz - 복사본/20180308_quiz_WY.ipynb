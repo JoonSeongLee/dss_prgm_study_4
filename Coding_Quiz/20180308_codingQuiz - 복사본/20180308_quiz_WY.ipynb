{
 "cells": [
  {
   "cell_type": "markdown",
   "metadata": {},
   "source": [
    "시저암호"
   ]
  },
  {
   "cell_type": "code",
   "execution_count": 11,
   "metadata": {},
   "outputs": [],
   "source": [
    "def caesar(s, n):\n",
    "    ls = list(s)\n",
    "    result = []\n",
    "\n",
    "    alpha_cap = \"ABCDEFGHIJKLMNOPQRSTUVWXYZ\"\n",
    "    alpha_low = alpha_cap.lower()\n",
    "\n",
    "    for i in s:\n",
    "        if i is \" \":\n",
    "            result.append(\" \")\n",
    "        elif i.islower() is True:\n",
    "            new_ = alpha_low.find(i) + n\n",
    "            result.append(alpha_low[new_ % 26])\n",
    "        else:\n",
    "            new_ = alpha_cap.find(i) + n\n",
    "            result.append(alpha_cap[new_ % 26])\n",
    "    return \"\".join(result)\n",
    "\n",
    "\n",
    "\n",
    "    result = ''.join(result)         \n",
    "    return result"
   ]
  },
  {
   "cell_type": "code",
   "execution_count": 12,
   "metadata": {},
   "outputs": [
    {
     "data": {
      "text/plain": [
       "'Ymnx nx fs jcfruqj tk hfjxfw hnumjw'"
      ]
     },
     "execution_count": 12,
     "metadata": {},
     "output_type": "execute_result"
    }
   ],
   "source": [
    "caesar(\"This is an example of caesar cipher\", 5)"
   ]
  },
  {
   "cell_type": "code",
   "execution_count": null,
   "metadata": {},
   "outputs": [],
   "source": []
  },
  {
   "cell_type": "markdown",
   "metadata": {},
   "source": [
    "공항 짓기"
   ]
  },
  {
   "cell_type": "code",
   "execution_count": 65,
   "metadata": {},
   "outputs": [],
   "source": [
    "# def chooseCity(n,city):\n",
    "#     city.sort()\n",
    "#     total = sum(i[1] for i in city)\n",
    "#     half = 0\n",
    "#     for i in range(n):\n",
    "#         half += city[i][1]\n",
    "#         if half >= total / 2:\n",
    "#             break\n",
    "\n",
    "#     return city[i][0]"
   ]
  },
  {
   "cell_type": "code",
   "execution_count": 68,
   "metadata": {},
   "outputs": [
    {
     "data": {
      "text/plain": [
       "2"
      ]
     },
     "execution_count": 68,
     "metadata": {},
     "output_type": "execute_result"
    }
   ],
   "source": [
    "chooseCity(3,[[2,2],[3,3],[1,5],[4,1], [5,1]])"
   ]
  },
  {
   "cell_type": "code",
   "execution_count": null,
   "metadata": {},
   "outputs": [],
   "source": []
  },
  {
   "cell_type": "code",
   "execution_count": null,
   "metadata": {},
   "outputs": [],
   "source": []
  },
  {
   "cell_type": "markdown",
   "metadata": {},
   "source": [
    "과자 많이 먹기\n",
    "\n",
    "규칙은 유지하되, 얼마나 입에 많이 넣을 수 있는지.\n",
    "\n",
    "얘는 맛을 희안하게 따지네..."
   ]
  },
  {
   "cell_type": "code",
   "execution_count": 19,
   "metadata": {},
   "outputs": [
    {
     "name": "stdout",
     "output_type": "stream",
     "text": [
      "0\n"
     ]
    }
   ],
   "source": [
    "def eatCookie(cookies):\n",
    "    answer = 0\n",
    "\n",
    "    return answer\n",
    "\n",
    "\n",
    "\n",
    "# 아래는 테스트로 출력해 보기 위한 코드입니다.\n",
    "print(eatCookie([1, 4, 2, 6, 3, 4, 1, 5]))"
   ]
  },
  {
   "cell_type": "code",
   "execution_count": 18,
   "metadata": {},
   "outputs": [
    {
     "data": {
      "text/plain": [
       "10"
      ]
     },
     "execution_count": 18,
     "metadata": {},
     "output_type": "execute_result"
    }
   ],
   "source": [
    "eatCookie([383, 85, 566, 107, 834, 118, 960, 619, 957, 754, 994, 610, 967, 449, 734, 360, 888, 667, 515, 68, 501, 697, 789, 669, 724, 718, 396, 430, 647, 581, 658, 862, 473, 402, 168, 441, 763, 623, 698, 156, 675, 553, 137, 583, 202, 553, 549, 979, 521, 177])\n",
    "# 올바른 결과값: 10"
   ]
  },
  {
   "cell_type": "markdown",
   "metadata": {},
   "source": [
    "124나라"
   ]
  },
  {
   "cell_type": "code",
   "execution_count": 9,
   "metadata": {},
   "outputs": [],
   "source": [
    "def nara124(n):\n",
    "    num = ['1','2','4']\n",
    "    answer = \"\"\n",
    "\n",
    "\n",
    "    while n > 0:\n",
    "        n -= 1\n",
    "        answer = num[n % 3] + answer\n",
    "        n //= 3\n",
    "\n",
    "    return answer"
   ]
  },
  {
   "cell_type": "code",
   "execution_count": 10,
   "metadata": {},
   "outputs": [
    {
     "data": {
      "text/plain": [
       "'14442'"
      ]
     },
     "execution_count": 10,
     "metadata": {},
     "output_type": "execute_result"
    }
   ],
   "source": [
    "nara124(200)"
   ]
  },
  {
   "cell_type": "code",
   "execution_count": null,
   "metadata": {},
   "outputs": [],
   "source": []
  }
 ],
 "metadata": {
  "kernelspec": {
   "display_name": "Python 3",
   "language": "python",
   "name": "python3"
  },
  "language_info": {
   "codemirror_mode": {
    "name": "ipython",
    "version": 3
   },
   "file_extension": ".py",
   "mimetype": "text/x-python",
   "name": "python",
   "nbconvert_exporter": "python",
   "pygments_lexer": "ipython3",
   "version": "3.6.3"
  }
 },
 "nbformat": 4,
 "nbformat_minor": 2
}
