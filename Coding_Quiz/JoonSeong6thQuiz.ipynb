{
 "cells": [
  {
   "cell_type": "markdown",
   "metadata": {},
   "source": [
    "# 124나라의 숫자 Level 5\n",
    "1,2,4 세 개의 숫자만 쓰는 124나라가 있습니다.\n",
    "\n",
    "124나라에서 사용하는 숫자는 다음과 같이 변환됩니다.\n",
    "\n",
    "- 10진법의 1 → 1\n",
    "- 10진법의 2 → 2\n",
    "- 10진법의 3 → 4\n",
    "- 10진법의 4 → 11\n",
    "- 10진법의 5 → 12\n",
    "- 10진법의 6 → 14\n",
    "- 10진법의 7 → 21\n",
    "\n",
    "10진법의 수 N이 입력될 때, 124나라에서 쓰는 숫자로 변환하여 반환해주는 change124 함수를 완성해 보세요. 예를 들어 N = 10이면 “41”를 반환해주면 됩니다.\n",
    "\n",
    "리턴 타입은 문자열입니다."
   ]
  },
  {
   "cell_type": "code",
   "execution_count": 35,
   "metadata": {},
   "outputs": [
    {
     "name": "stdout",
     "output_type": "stream",
     "text": [
      "1\n"
     ]
    }
   ],
   "source": [
    "def change124(n):        \n",
    "    answer = \"\"\n",
    "    ls412=['4','1','2']\n",
    "    a = 0\n",
    "    while n >0:\n",
    "    \n",
    "        \n",
    "        a = n%3\n",
    "        answer += ls412[a]\n",
    "        \n",
    "        n -=1\n",
    "        n //= 3\n",
    "        \n",
    "        \n",
    "\n",
    "    return answer[::-1]\n",
    "\n",
    "\n",
    "# 아래는 테스트로 출력해 보기 위한 코드입니다.\n",
    "print(change124(1))\n"
   ]
  },
  {
   "cell_type": "markdown",
   "metadata": {},
   "source": [
    "# 시저 암호 Level 3\n",
    "\n",
    "어떤 문장의 각 알파벳을 일정한 거리만큼 밀어서 다른 알파벳으로 바꾸는 암호화 방식을 시저 암호라고 합니다.\n",
    "\n",
    "A를 3만큼 밀면 D가 되고 z를 1만큼 밀면 a가 됩니다. 공백은 수정하지 않습니다.\n",
    "\n",
    "보낼 문자열 s와 얼마나 밀지 알려주는 n을 입력받아 암호문을 만드는 caesar 함수를 완성해 보세요.\n",
    "\n",
    "“a B z”,4를 입력받았다면 “e F d”를 리턴합니다."
   ]
  },
  {
   "cell_type": "code",
   "execution_count": 131,
   "metadata": {},
   "outputs": [
    {
     "name": "stdout",
     "output_type": "stream",
     "text": [
      "s는 \"a B z\", n은 4인 경우: e F d\n"
     ]
    }
   ],
   "source": [
    "def caesar(s, n):\n",
    "    ls = s.split(\" \")\n",
    "    \n",
    "    for i in range(len(ls)):\n",
    "        \n",
    "        if 96 < ord(ls[i]) and ord(ls[i]) < 123:\n",
    "            \n",
    "            if ord(ls[i])+n > 122:\n",
    "                \n",
    "                ls[i] = chr(ord(ls[i])+n-26)\n",
    "            else:\n",
    "                \n",
    "                ls[i] = chr(ord(ls[i])+n)\n",
    "        if 64 < ord(ls[i]) and ord(ls[i]) < 91:\n",
    "            \n",
    "            if ord(ls[i])+n > 90:\n",
    "                \n",
    "                ls[i] = chr(ord(ls[i])+n-26)\n",
    "            else:\n",
    "                \n",
    "                ls[i] = chr(ord(ls[i])+n)\n",
    "                \n",
    "    result = \" \".join(ls)\n",
    "    return result\n",
    "    # 주어진 문장을 암호화하여 반환하세요.\n",
    "\n",
    "\n",
    "# 실행을 위한 테스트코드입니다.\n",
    "print('s는 \"a B z\", n은 4인 경우: ' + caesar(\"a B z\", 4))"
   ]
  },
  {
   "cell_type": "markdown",
   "metadata": {},
   "source": [
    "# 공항 건설하기 Level 4\n",
    "1보다 큰 N개의 도시 중 한 곳에 공항을 지을 예정입니다. 사람들의 편의를 위해 공항으로부터 **각 사람들까지의 도시간 이동 거리가 최소가 되는 도시에 짓기로 하였습니다.** 편의상 **도시는 일직선상에 놓여있다**고 가정하며 **좌표의 범위는 음수가 포함**됩니다. 또한 좌표는 정렬되어 있지 않습니다. 직선상의 위치와 그 도시에 사는 사람들의 수가 주어질 때, 공항을 지을 도시의 위치를 반환해주는 함수 chooseCity 함수를 완성하세요. 거리가 같은 도시가 2개 이상일 경우 위치가 더 작은 쪽의 도시를 선택하면 됩니다. 예를 들어 다음과 같은 정보의 도시가 있다고 가정해 봅시다.\n",
    "\n",
    "위치\t1\t2\t3\n",
    "인구수\t5\t2\t3\n",
    "이 살 경우, 각각의 도시에 공항을 지었을 때의 사람들의 이동 거리는 8, 8, 12 이므로 1번 또는 2번에 지을 수 있지만, 1의 위치가 더 작으므로 1을 반환해주면 됩니다."
   ]
  },
  {
   "cell_type": "code",
   "execution_count": 53,
   "metadata": {},
   "outputs": [
    {
     "name": "stdout",
     "output_type": "stream",
     "text": [
      "1\n"
     ]
    }
   ],
   "source": [
    "def chooseCity(n,city):\n",
    "    result = {}\n",
    "    for idx in range(n):\n",
    "        s = 0\n",
    "        for j in range(n):\n",
    "            if j != idx:\n",
    "                if city[j][0]-city[idx][0] < 0:\n",
    "                s += np.sqrt((city[j][0]-city[idx][0])**2)*city[j][1]\n",
    "        result[idx+1] = int(s)\n",
    "    answer = min(result)\n",
    "    return answer\n",
    "\n",
    "#아래 코드는 출력을 위한 테스트 코드입니다.\n",
    "\n",
    "print(chooseCity(3,[[1,5],[2,2],[3,3]]))"
   ]
  },
  {
   "cell_type": "code",
   "execution_count": 49,
   "metadata": {},
   "outputs": [
    {
     "data": {
      "text/plain": [
       "1"
      ]
     },
     "execution_count": 49,
     "metadata": {},
     "output_type": "execute_result"
    }
   ],
   "source": [
    "chooseCity(3,[[1,5],[2,2],[3,3]])\n",
    "min(chooseCity(3,[[1,5],[2,2],[3,3]]))"
   ]
  },
  {
   "cell_type": "code",
   "execution_count": null,
   "metadata": {},
   "outputs": [],
   "source": []
  },
  {
   "cell_type": "code",
   "execution_count": 41,
   "metadata": {},
   "outputs": [
    {
     "data": {
      "text/plain": [
       "0"
      ]
     },
     "execution_count": 41,
     "metadata": {},
     "output_type": "execute_result"
    }
   ],
   "source": [
    " result = [0]*4\n",
    "result[2]"
   ]
  },
  {
   "cell_type": "markdown",
   "metadata": {},
   "source": [
    "# 과자 많이 먹기 Level 6\n",
    "\n",
    "과자를 좋아하는 동우는 책상 위에 일렬로 놓아진 과자를 발견하였습니다. 과자에는 맛을 숫자로 평가한 종이가 붙어 있습니다. 동우는 맨 왼쪽부터 순서대로 과자를 먹기로 하였습니다. 동우는 먹을 과자를 고를 때 이전에 먹은 과자보다 맛이 더 좋은 과자만 먹습니다.\n",
    "\n",
    "제일 처음에 맛이 3인 과자를 먹었다면, 다음에는 4보다 작은 맛의 과자는 먹지 않습니다.\n",
    "\n",
    "책상위에 놓인 과자의 맛이 입력되면, 동우가 최대 과자를 몇 개를 먹을 수 있는지 반환해주는 eatCookie 함수를 완성하세요.\n",
    "\n",
    "예를 들어 [1, 4, 2, 6, 3, 4, 1, 5] 가 입력된다면 동우는 1, 3, 5, 6, 8번째 과자(각각의 맛은 1, 2, 3, 4, 5)를 골라 총 5개를 먹을 수 있고, 5개보다 더 많이 먹을 수 있는 방법은 없으므로 5를 리턴하면 됩니다."
   ]
  },
  {
   "cell_type": "code",
   "execution_count": 37,
   "metadata": {},
   "outputs": [
    {
     "name": "stdout",
     "output_type": "stream",
     "text": [
      "5\n"
     ]
    }
   ],
   "source": [
    "def eatCookie(cookies):\n",
    "    answer = 0\n",
    "    lenth = len(cookies)\n",
    "    rlt = [[0]]*(lenth+1)\n",
    "    \n",
    "    for i in range(lenth):\n",
    "        maxium = 0\n",
    "        for j in range(i):\n",
    "            if cookies[i] > cookies[j]:\n",
    "                if (maxium < rlt[j]):\n",
    "                    maxium = rlt[j] \n",
    "        rlt[i] = maxium + 1\n",
    "        answer = max(answer, rlt[i])\n",
    "    return answer\n",
    "\n",
    "\n",
    "\n",
    "# 아래는 테스트로 출력해 보기 위한 코드입니다.\n",
    "print(eatCookie([1, 4, 2, 6, 3, 4, 1, 5]))"
   ]
  },
  {
   "cell_type": "code",
   "execution_count": null,
   "metadata": {},
   "outputs": [],
   "source": []
  }
 ],
 "metadata": {
  "kernelspec": {
   "display_name": "Python 3",
   "language": "python",
   "name": "python3"
  },
  "language_info": {
   "codemirror_mode": {
    "name": "ipython",
    "version": 3
   },
   "file_extension": ".py",
   "mimetype": "text/x-python",
   "name": "python",
   "nbconvert_exporter": "python",
   "pygments_lexer": "ipython3",
   "version": "3.6.4"
  }
 },
 "nbformat": 4,
 "nbformat_minor": 2
}
