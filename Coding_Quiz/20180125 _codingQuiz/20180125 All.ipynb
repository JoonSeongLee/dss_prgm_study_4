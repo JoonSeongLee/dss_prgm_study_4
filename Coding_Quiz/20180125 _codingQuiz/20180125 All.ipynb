{
 "cells": [
  {
   "cell_type": "markdown",
   "metadata": {},
   "source": [
    "1. "
   ]
  },
  {
   "cell_type": "code",
   "execution_count": null,
   "metadata": {},
   "outputs": [],
   "source": [
    "# 준성\n",
    "# 10미만의 자연수에서 3과 5의 배수를 구하면 3,5,6,9이다. 이들의 총합은 23이다.\n",
    "# 1000미만의 자연수에서 3,5의 배수의 총합을 구하라.\n",
    "sum=0\n",
    "for n in range(1000):\n",
    "    if n%5 ==0 or n%3 == 0:\n",
    "           sum += n\n",
    "print(sum)"
   ]
  },
  {
   "cell_type": "code",
   "execution_count": null,
   "metadata": {},
   "outputs": [],
   "source": [
    "# 원영\n",
    "sum=0\n",
    "for n in range(1000):\n",
    "    if n%5 ==0 or n%3 == 0:\n",
    "           sum += n\n",
    "print(sum)"
   ]
  },
  {
   "cell_type": "code",
   "execution_count": null,
   "metadata": {},
   "outputs": [],
   "source": [
    "# 지수\n",
    "mul_sum = 0\n",
    "for i in range(1, 1000):\n",
    "    if i % 15 == 0:\n",
    "        mul_sum += i\n",
    "    elif i % 3 == 0:\n",
    "        mul_sum += i\n",
    "    elif i % 5 == 0:\n",
    "        mul_sum += i\n",
    "\n",
    "print(mul_sum)"
   ]
  },
  {
   "cell_type": "code",
   "execution_count": null,
   "metadata": {},
   "outputs": [],
   "source": [
    "# 재웅\n",
    "%%timeit\n",
    "result = 0\n",
    "\n",
    "for each in range(1, 1000):\n",
    "    if each % 3 == 0 or each % 5 == 0:\n",
    "        result += each\n",
    "# print(result)"
   ]
  },
  {
   "cell_type": "code",
   "execution_count": null,
   "metadata": {},
   "outputs": [],
   "source": [
    "%%timeit\n",
    "result = sum(each for each in range(1, 1000) if each % 3 == 0 or each % 5 == 0)\n",
    "\n",
    "# print(result)"
   ]
  },
  {
   "cell_type": "code",
   "execution_count": null,
   "metadata": {},
   "outputs": [],
   "source": []
  },
  {
   "cell_type": "markdown",
   "metadata": {},
   "source": [
    "2. "
   ]
  },
  {
   "cell_type": "code",
   "execution_count": null,
   "metadata": {},
   "outputs": [],
   "source": [
    "# 준성\n",
    "\n",
    "#2이상 1000이하 자연수의 집합에서 소수의 개수를 구하는 알고리즘을 작성하시오.\n",
    "prime_num = []\n",
    "\n",
    "for i in range(2,1001):\n",
    "    if len(prime_num) == 0:\n",
    "        prime_num.append(i)       \n",
    "    else:\n",
    "        check = 0\n",
    "        for k in range(len(prime_num)) :\n",
    "            if i % prime_num[k] != 0 :\n",
    "                check += 1\n",
    "        if check == len(prime_num) :\n",
    "            prime_num.append(i)\n",
    "\n",
    "print(len(prime_num))  "
   ]
  },
  {
   "cell_type": "code",
   "execution_count": null,
   "metadata": {},
   "outputs": [],
   "source": [
    "# 원영\n",
    "def prime_func(n):\n",
    "\n",
    "    prime_num=[]\n",
    "\n",
    "    for a in range(2, 1000+1):\n",
    "        if a==2:\n",
    "            prime_num.append(a) \n",
    "        else: \n",
    "            for j in prime_num: \n",
    "                if a%j==0:\n",
    "                    break\n",
    "            if j==prime_num[-1]:\n",
    "                prime_num.append(a)\n",
    "        \n",
    "    print(len(prime_num))"
   ]
  },
  {
   "cell_type": "code",
   "execution_count": null,
   "metadata": {},
   "outputs": [],
   "source": [
    "# 지수\n",
    "import math\n",
    "math.sqrt(1000)"
   ]
  },
  {
   "cell_type": "code",
   "execution_count": null,
   "metadata": {},
   "outputs": [],
   "source": [
    "#에라토스테네스의 체 사용\n",
    "ls = list(range(2, 1001))\n",
    "n = ls[0]\n",
    "count = 0\n",
    "new_ls = []\n",
    "while len(ls) > 0 :\n",
    "    count += 1\n",
    "    for i in ls:\n",
    "        n = ls[0]\n",
    "        if i % n != 0:\n",
    "            new_ls.append(i)\n",
    "    ls = new_ls\n",
    "#### print(ls) -> 체로 걸러지는 리스트 보여줌\n",
    "    new_ls = []"
   ]
  },
  {
   "cell_type": "code",
   "execution_count": null,
   "metadata": {},
   "outputs": [],
   "source": [
    "count"
   ]
  },
  {
   "cell_type": "code",
   "execution_count": null,
   "metadata": {},
   "outputs": [],
   "source": [
    "# 재웅\n",
    "%%timeit\n",
    "# O(n^2) 밖에 안떠오른당\n",
    "sum = 0\n",
    "\n",
    "for number in range(2, 1000 + 1):\n",
    "    div = 0\n",
    "    for each in range(2, number):\n",
    "        if number % each == 0:\n",
    "            div += 1\n",
    "\n",
    "        if div >= 1 and number != each:\n",
    "            break\n",
    "\n",
    "    if div == 0:\n",
    "        sum += 1\n",
    "\n",
    "# print(sum) "
   ]
  },
  {
   "cell_type": "code",
   "execution_count": null,
   "metadata": {},
   "outputs": [],
   "source": []
  },
  {
   "cell_type": "markdown",
   "metadata": {},
   "source": [
    "3. "
   ]
  },
  {
   "cell_type": "code",
   "execution_count": null,
   "metadata": {},
   "outputs": [],
   "source": [
    "# 준성\n",
    "# 피보나치 수열의 각 항은 바로 앞의 항 두 개를 더한 것이 됩니다. 1과 2로 시작하는 경우 이 수열은 아래와 같습니다.\n",
    "\n",
    "# 1, 2, 3, 5, 8, 13, 21, 34, 55, 89, ...\n",
    "\n",
    "# 짝수이면서 4백만 이하인 모든 항을 더하면 얼마가 됩니까?\n",
    "fibon = []\n",
    "fibon.append(1)\n",
    "fibon.append(2)\n",
    "a = fibon[0]\n",
    "b = fibon[1]\n",
    "c = 0\n",
    "while c <= 400000 :\n",
    "    c = a + b\n",
    "    if c <= 400000 :\n",
    "        fibon.append(c)\n",
    "        a = b\n",
    "        b = c\n",
    "sum = 0\n",
    "for i in fibon:\n",
    "    if i % 2 == 0:\n",
    "        sum += i \n",
    "sum\n",
    "print(fibon)"
   ]
  },
  {
   "cell_type": "code",
   "execution_count": null,
   "metadata": {},
   "outputs": [],
   "source": [
    "# 원영\n",
    "def fibo_even(n):\n",
    "    fibo = []\n",
    "    a, b = 0, 1\n",
    "    while a < n:\n",
    "        a, b = b, a + b\n",
    "        fibo.append(a)\n",
    "        if b >n: \n",
    "            break\n",
    "    \n",
    "    fibo_even = []\n",
    "    for num in fibo:\n",
    "        if num % 2 == 0:\n",
    "            fibo_even.append(num)\n",
    "    print(sum(fibo_even))\n",
    "            \n",
    "\n",
    "    \n",
    "\n",
    "fibo_even(4000000)"
   ]
  },
  {
   "cell_type": "code",
   "execution_count": null,
   "metadata": {},
   "outputs": [],
   "source": [
    "# 지수\n",
    "a = 1\n",
    "b = 2\n",
    "ls = [a, b]\n",
    "while True:\n",
    "    c = a + b\n",
    "    if c > 4000000:\n",
    "        break\n",
    "    ls.append(c)\n",
    "    a = b\n",
    "    b = c\n",
    "\n",
    "s = 0\n",
    "for i in ls:\n",
    "    if i % 2 == 0:\n",
    "        s += i\n",
    "print(s)"
   ]
  },
  {
   "cell_type": "code",
   "execution_count": null,
   "metadata": {},
   "outputs": [],
   "source": [
    "# 재웅\n",
    "% % timeit\n",
    "fib = [1, 1]\n",
    "limit = 4000000\n",
    "i = 2\n",
    "sum = 0\n",
    "\n",
    "while fib[i - 2] + fib[i - 1] < limit:\n",
    "    fib.append(fib[i - 2] + fib[i - 1])\n",
    "\n",
    "    if fib[-1] > limit:\n",
    "        break\n",
    "\n",
    "    elif fib[-1] % 2 == 0:\n",
    "        sum += fib[-1]\n",
    "\n",
    "    i += 1\n",
    "\n",
    "# print(sum)"
   ]
  },
  {
   "cell_type": "code",
   "execution_count": null,
   "metadata": {},
   "outputs": [],
   "source": [
    "% % timeit\n",
    "a, b = [0, 1]\n",
    "sum = 0\n",
    "while b <= 4000000:\n",
    "    a = a + b\n",
    "    b, a = a, b\n",
    "    if b % 2 == 0:\n",
    "        sum += b\n",
    "# print(sum)"
   ]
  },
  {
   "cell_type": "markdown",
   "metadata": {},
   "source": [
    "4. "
   ]
  },
  {
   "cell_type": "code",
   "execution_count": null,
   "metadata": {},
   "outputs": [],
   "source": [
    "# 준성\n",
    "#1부터 10,000까지 8이라는 숫자가 총 몇번 나오는가?\n",
    "\n",
    "# 8이 포함되어 있는 숫자의 갯수를 카운팅 하는 것이 아니라 8이라는 숫자를 모두 카운팅 해야 한다.\n",
    "# (※ 예를들어 8808은 3, 8888은 4로 카운팅 해야 함)\n",
    "\n",
    "count = 0\n",
    "for i in range(1, 10000 + 1):\n",
    "    num = str(i)\n",
    "    for j in range(len(num)):\n",
    "        if num[j] == '8':\n",
    "            count += 1\n",
    "count            "
   ]
  },
  {
   "cell_type": "code",
   "execution_count": null,
   "metadata": {},
   "outputs": [],
   "source": [
    "# 원영\n",
    "def count_8(n):\n",
    "    ls = []\n",
    "    for num in range(1, n+1):\n",
    "        num2 = list(str(num))\n",
    "        ls.extend(num2)\n",
    "#     print(ls)\n",
    "    print(ls.count(\"8\"))\n",
    "\n",
    "    \n",
    "count_8(10000)"
   ]
  },
  {
   "cell_type": "code",
   "execution_count": null,
   "metadata": {},
   "outputs": [],
   "source": [
    "str(list(range(1,10000+1))).count('8')"
   ]
  },
  {
   "cell_type": "markdown",
   "metadata": {},
   "source": [
    "# 지수\n",
    "\n",
    "1의 자리가 8인 수의 개수 -> 10X10X10 = 1000 \n",
    "\n",
    "10의 자리가 8인 수의 개수 -> 10X10X10 = 1000 \n",
    "\n",
    "100의 자리가 8인 수의 개수 -> 10X10X10 = 1000 \n",
    "\n",
    "1000의 자리가 8인 수의 개수 -> 10X10X10 = 1000 \n",
    "\n",
    "$\\therefore 1000+1000+1000+1000 = 4000 $"
   ]
  },
  {
   "cell_type": "code",
   "execution_count": null,
   "metadata": {},
   "outputs": [],
   "source": [
    "# 재웅\n",
    "result = 0\n",
    "\n",
    "for each in range(1, 10000):\n",
    "    toks = str(each)\n",
    "    for tok in toks:\n",
    "        if tok == '8':\n",
    "            result += 1\n",
    "# print(result)"
   ]
  },
  {
   "cell_type": "code",
   "execution_count": null,
   "metadata": {},
   "outputs": [],
   "source": [
    "%%timeit\n",
    "result = 0\n",
    "\n",
    "for each in range(1, 10000):\n",
    "    for tok in str(each):\n",
    "        if tok == '8':\n",
    "            result += 1\n",
    "# print(result)"
   ]
  }
 ],
 "metadata": {
  "kernelspec": {
   "display_name": "Python 3",
   "language": "python",
   "name": "python3"
  },
  "language_info": {
   "codemirror_mode": {
    "name": "ipython",
    "version": 3
   },
   "file_extension": ".py",
   "mimetype": "text/x-python",
   "name": "python",
   "nbconvert_exporter": "python",
   "pygments_lexer": "ipython3",
   "version": "3.6.2"
  }
 },
 "nbformat": 4,
 "nbformat_minor": 2
}
